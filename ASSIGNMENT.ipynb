{
 "cells": [
  {
   "cell_type": "markdown",
   "id": "c96a5db3-5c21-44ea-b0cc-6983f4bbdb6b",
   "metadata": {},
   "source": [
    "- Q1. Create one variable containing following type of data:\n",
    "- (i) string\n",
    "- (ii) list\n",
    "- (iii) float\n",
    "- (iv) tuple"
   ]
  },
  {
   "cell_type": "code",
   "execution_count": 2,
   "id": "ee946113-0153-4bd9-811f-def6583ac8b0",
   "metadata": {},
   "outputs": [
    {
     "data": {
      "text/plain": [
       "str"
      ]
     },
     "execution_count": 2,
     "metadata": {},
     "output_type": "execute_result"
    }
   ],
   "source": [
    "# string\n",
    "n = \"hello\"\n",
    "type(n)"
   ]
  },
  {
   "cell_type": "code",
   "execution_count": 3,
   "id": "cf71b9df-e010-4ac5-9750-be0f5181b546",
   "metadata": {},
   "outputs": [
    {
     "data": {
      "text/plain": [
       "list"
      ]
     },
     "execution_count": 3,
     "metadata": {},
     "output_type": "execute_result"
    }
   ],
   "source": [
    "#list\n",
    "n1 = [1,2,3,\"hi\",34]\n",
    "type(n1)"
   ]
  },
  {
   "cell_type": "code",
   "execution_count": 4,
   "id": "c04b995b-71f0-4556-9d2f-d67a5b458da1",
   "metadata": {},
   "outputs": [
    {
     "data": {
      "text/plain": [
       "float"
      ]
     },
     "execution_count": 4,
     "metadata": {},
     "output_type": "execute_result"
    }
   ],
   "source": [
    "# float \n",
    "n2 = 23.45\n",
    "type(n2)"
   ]
  },
  {
   "cell_type": "code",
   "execution_count": 5,
   "id": "cfe11408-905e-46d2-b6f9-fe4d5bf08e50",
   "metadata": {},
   "outputs": [
    {
     "data": {
      "text/plain": [
       "tuple"
      ]
     },
     "execution_count": 5,
     "metadata": {},
     "output_type": "execute_result"
    }
   ],
   "source": [
    "# typle\n",
    "n3 = (456,77,88,99,100)\n",
    "type(n3)"
   ]
  },
  {
   "cell_type": "markdown",
   "id": "c2dc79db-7c5f-4b35-9e8b-5519e9f0c7c2",
   "metadata": {},
   "source": [
    "### Q2. Given are some following variables containing data:\n",
    "- (i) var1 = ‘ ‘\n",
    "- (ii) var2 = ‘[ DS , ML , Python]’\n",
    "- (iii) var3 = [ ‘DS’ , ’ML’ , ‘Python’ ]\n",
    "- (iv) var4 = 1.\n",
    "\n",
    "-  What will be the data type of the above given variable."
   ]
  },
  {
   "cell_type": "code",
   "execution_count": 6,
   "id": "1c1f3945-573c-4d49-8d61-f851bfb78d90",
   "metadata": {},
   "outputs": [
    {
     "data": {
      "text/plain": [
       "str"
      ]
     },
     "execution_count": 6,
     "metadata": {},
     "output_type": "execute_result"
    }
   ],
   "source": [
    "var1 = ' ' # data type is string\n",
    "type(var1)"
   ]
  },
  {
   "cell_type": "code",
   "execution_count": 7,
   "id": "a51ef4f8-5cc0-478e-b610-986d861802ac",
   "metadata": {},
   "outputs": [
    {
     "data": {
      "text/plain": [
       "str"
      ]
     },
     "execution_count": 7,
     "metadata": {},
     "output_type": "execute_result"
    }
   ],
   "source": [
    "var2 = '[ DS , ML , Python]' # datatype is string\n",
    "type(var2)"
   ]
  },
  {
   "cell_type": "code",
   "execution_count": 8,
   "id": "66a36d78-6e45-4a6a-a5f7-9c167c263d94",
   "metadata": {},
   "outputs": [
    {
     "data": {
      "text/plain": [
       "list"
      ]
     },
     "execution_count": 8,
     "metadata": {},
     "output_type": "execute_result"
    }
   ],
   "source": [
    "var3 = [ 'DS' , 'ML' , 'Python' ] # data type is list\n",
    "type(var3)"
   ]
  },
  {
   "cell_type": "code",
   "execution_count": 10,
   "id": "f7cc2264-183d-497c-b0e3-83d63e9dcd65",
   "metadata": {},
   "outputs": [
    {
     "data": {
      "text/plain": [
       "float"
      ]
     },
     "execution_count": 10,
     "metadata": {},
     "output_type": "execute_result"
    }
   ],
   "source": [
    "var4 = 1. # data type is float\n",
    "type(var4)"
   ]
  },
  {
   "cell_type": "markdown",
   "id": "33c5c151-0164-424f-8c30-e1d095b09ec2",
   "metadata": {},
   "source": [
    "## Q3. Explain the use of the following operators using an example:\n",
    "- (i) /\n",
    "- (ii) %\n",
    "- (iii) //\n",
    "- (iv) **"
   ]
  },
  {
   "cell_type": "code",
   "execution_count": 11,
   "id": "31617ea9-610f-4ab4-93f0-88b92ae9bf1f",
   "metadata": {},
   "outputs": [],
   "source": [
    "a = 10\n",
    "b = 3\n",
    "\n"
   ]
  },
  {
   "cell_type": "code",
   "execution_count": 14,
   "id": "60829209-9522-4cff-890f-de6cf3e4f33b",
   "metadata": {},
   "outputs": [
    {
     "data": {
      "text/plain": [
       "3.3333333333333335"
      ]
     },
     "execution_count": 14,
     "metadata": {},
     "output_type": "execute_result"
    }
   ],
   "source": [
    "# division operator /\n",
    "a/b"
   ]
  },
  {
   "cell_type": "code",
   "execution_count": 18,
   "id": "0335d277-dde9-414f-90e0-f2e30b2f7e57",
   "metadata": {},
   "outputs": [
    {
     "name": "stdout",
     "output_type": "stream",
     "text": [
      "the remainder of 10/3 is :  1\n"
     ]
    }
   ],
   "source": [
    "# modulo operator give us remainder\n",
    "a%b\n",
    "print(f\"the remainder of 10/3 is :  {a%b}\")"
   ]
  },
  {
   "cell_type": "code",
   "execution_count": 20,
   "id": "0406379b-dec4-40b0-931b-e9638fc5bb46",
   "metadata": {},
   "outputs": [
    {
     "data": {
      "text/plain": [
       "3"
      ]
     },
     "execution_count": 20,
     "metadata": {},
     "output_type": "execute_result"
    }
   ],
   "source": [
    "# floor division\n",
    "a//b\n",
    "# floor division give integer values only"
   ]
  },
  {
   "cell_type": "code",
   "execution_count": 23,
   "id": "7ec42743-3a3d-4433-a006-22181371939c",
   "metadata": {},
   "outputs": [
    {
     "data": {
      "text/plain": [
       "1000"
      ]
     },
     "execution_count": 23,
     "metadata": {},
     "output_type": "execute_result"
    }
   ],
   "source": [
    "# ** \n",
    "a**b\n",
    "#10**3 here power of 10 is 3"
   ]
  },
  {
   "cell_type": "markdown",
   "id": "7957872a-e492-44f6-8955-9b2d94d99a30",
   "metadata": {},
   "source": [
    "#### Q4. Create a list of length 10 of your choice containing multiple types of data. Using for loop print the element and its data type."
   ]
  },
  {
   "cell_type": "code",
   "execution_count": 28,
   "id": "715177f3-ff6e-4f92-a368-579c789638d5",
   "metadata": {},
   "outputs": [
    {
     "name": "stdout",
     "output_type": "stream",
     "text": [
      "1    --->    <class 'int'>\n",
      "2    --->    <class 'int'>\n",
      "3    --->    <class 'int'>\n",
      "23.45    --->    <class 'float'>\n",
      "Hello    --->    <class 'str'>\n",
      "True    --->    <class 'bool'>\n",
      "World    --->    <class 'str'>\n",
      "2.0    --->    <class 'float'>\n",
      "3    --->    <class 'int'>\n",
      "4.5    --->    <class 'float'>\n",
      "6    --->    <class 'int'>\n"
     ]
    }
   ],
   "source": [
    "l1 = [1,2,3,23.45,\"Hello\",True,\"World\",2.0,3,4.5,6]\n",
    "for i in l1:\n",
    "    print(f\"{i}    --->    {type(i)}\")"
   ]
  },
  {
   "cell_type": "markdown",
   "id": "b7431f4a-0dbc-4f4a-a8a4-48065cca7b00",
   "metadata": {},
   "source": [
    "### Q5. Using a while loop, verify if the number A is purely divisible by number B and if so then how many times it can be divisible."
   ]
  },
  {
   "cell_type": "code",
   "execution_count": 6,
   "id": "5c251191-a3e2-47b2-9342-a4c8d6198589",
   "metadata": {},
   "outputs": [
    {
     "name": "stdin",
     "output_type": "stream",
     "text": [
      " 100\n",
      " 10\n"
     ]
    },
    {
     "name": "stdout",
     "output_type": "stream",
     "text": [
      "10\n",
      "20\n",
      "25\n",
      "50\n",
      "\n",
      "The times 100 is divisble is : 4\n"
     ]
    }
   ],
   "source": [
    "n = int(input())\n",
    "i = int(input())\n",
    "count = 0\n",
    "while i<n:\n",
    "    if n%i==0:\n",
    "        print(i)\n",
    "        count = count+1\n",
    "    i = i+1\n",
    "print()\n",
    "print(f\"The times {n} is divisble is : {count}\")"
   ]
  },
  {
   "cell_type": "markdown",
   "id": "545c7843-0b57-4cea-b8d0-42b82d0348ca",
   "metadata": {},
   "source": [
    "## Q6. Create a list containing 25 int type data. Using for loop and if-else condition print if the element is divisible by 3 or not."
   ]
  },
  {
   "cell_type": "code",
   "execution_count": 9,
   "id": "f051784f-73e6-4652-8db4-26ed420691e0",
   "metadata": {},
   "outputs": [
    {
     "name": "stdout",
     "output_type": "stream",
     "text": [
      "102\n",
      "105\n",
      "108\n",
      "111\n",
      "114\n",
      "117\n",
      "120\n",
      "123\n"
     ]
    }
   ],
   "source": [
    "list1 = list(range(100,125+1))\n",
    "\n",
    "for i in list1:\n",
    "    if i%3==0:\n",
    "        print(i)\n",
    "    "
   ]
  },
  {
   "cell_type": "markdown",
   "id": "f33eee26-a888-478b-9749-a11805493603",
   "metadata": {},
   "source": [
    "## Q7. What do you understand about mutable and immutable data types? Give examples for both showing this property."
   ]
  },
  {
   "cell_type": "markdown",
   "id": "993797d9-efb7-49d1-b9db-1b3096a0fe44",
   "metadata": {},
   "source": [
    "## MUTABLE\n",
    "- mutable object can be changed after it is created.\n",
    "- for example list,dict,set"
   ]
  },
  {
   "cell_type": "code",
   "execution_count": 10,
   "id": "4ee17c79-9271-4340-b0e2-0d8c660dad1b",
   "metadata": {},
   "outputs": [],
   "source": [
    "l3 = [1,2,3,4.5,6,7.8]"
   ]
  },
  {
   "cell_type": "code",
   "execution_count": 12,
   "id": "32f6fd20-a75c-4e2a-bce3-b202f7c3299f",
   "metadata": {},
   "outputs": [],
   "source": [
    "l3[3] = 4\n",
    "l3[-1] = 7"
   ]
  },
  {
   "cell_type": "code",
   "execution_count": 13,
   "id": "635f6584-177d-4a2a-8a61-4cbb949d286d",
   "metadata": {},
   "outputs": [
    {
     "data": {
      "text/plain": [
       "[1, 2, 3, 4, 6, 7]"
      ]
     },
     "execution_count": 13,
     "metadata": {},
     "output_type": "execute_result"
    }
   ],
   "source": [
    "l3"
   ]
  },
  {
   "cell_type": "markdown",
   "id": "e6e48312-9545-4450-b280-e6265df9a5f8",
   "metadata": {},
   "source": [
    "## Dict"
   ]
  },
  {
   "cell_type": "code",
   "execution_count": 18,
   "id": "b05c2e58-3b7e-41b3-bd6a-19d505aa8521",
   "metadata": {},
   "outputs": [
    {
     "data": {
      "text/plain": [
       "{'marks': 35, 'name': 'Ajay'}"
      ]
     },
     "execution_count": 18,
     "metadata": {},
     "output_type": "execute_result"
    }
   ],
   "source": [
    "dic = {\"marks\":35,\n",
    "      \"name\":\"Ajay\"}\n",
    "dic"
   ]
  },
  {
   "cell_type": "code",
   "execution_count": 19,
   "id": "c7e6a1f1-12f2-411b-8c07-43a33a65f1f2",
   "metadata": {},
   "outputs": [
    {
     "data": {
      "text/plain": [
       "{'marks': 85, 'name': 'Ajay'}"
      ]
     },
     "execution_count": 19,
     "metadata": {},
     "output_type": "execute_result"
    }
   ],
   "source": [
    "dic[\"marks\"] = 85\n",
    "dic"
   ]
  },
  {
   "cell_type": "markdown",
   "id": "ad798dfb-bedd-48cc-b10f-a94de9896e76",
   "metadata": {},
   "source": [
    "## SET"
   ]
  },
  {
   "cell_type": "code",
   "execution_count": 22,
   "id": "f7cf0dc7-0406-4bf9-839b-30748a96db19",
   "metadata": {},
   "outputs": [
    {
     "data": {
      "text/plain": [
       "{57, 63, 75, 82}"
      ]
     },
     "execution_count": 22,
     "metadata": {},
     "output_type": "execute_result"
    }
   ],
   "source": [
    "import numpy as np\n",
    "\n",
    "set1 = set((np.random.randint(50,100,5)))\n",
    "set1"
   ]
  },
  {
   "cell_type": "code",
   "execution_count": 30,
   "id": "c7033bf7-e459-4b24-80ca-100fa8ee96b3",
   "metadata": {},
   "outputs": [],
   "source": [
    "set1.update([49,50])"
   ]
  },
  {
   "cell_type": "code",
   "execution_count": 31,
   "id": "b97b3e83-14b6-48fc-8566-da54c0a43007",
   "metadata": {},
   "outputs": [
    {
     "data": {
      "text/plain": [
       "{49, 50, 57, 63, 75, 82}"
      ]
     },
     "execution_count": 31,
     "metadata": {},
     "output_type": "execute_result"
    }
   ],
   "source": [
    "set1"
   ]
  },
  {
   "cell_type": "markdown",
   "id": "62708bdd-7efd-4541-afa4-ac444192db55",
   "metadata": {},
   "source": [
    "## IMMUTABLE"
   ]
  },
  {
   "cell_type": "markdown",
   "id": "a11f03ce-f5f8-4008-98a4-3aa1a0adb7d5",
   "metadata": {},
   "source": [
    "- immutable object can’t be changed after it is created.\n",
    "- tuple"
   ]
  },
  {
   "cell_type": "code",
   "execution_count": 33,
   "id": "c139c4de-2171-4734-a0d7-fcf09a0db1c8",
   "metadata": {},
   "outputs": [
    {
     "data": {
      "text/plain": [
       "(1, 2, 3, 4.5, 6, 7.8)"
      ]
     },
     "execution_count": 33,
     "metadata": {},
     "output_type": "execute_result"
    }
   ],
   "source": [
    "tup = (1,2,3,4.5,6,7.8)\n",
    "tup"
   ]
  },
  {
   "cell_type": "code",
   "execution_count": 34,
   "id": "d7e218f5-feac-4de2-905e-8b6ef7c1cf50",
   "metadata": {},
   "outputs": [
    {
     "ename": "TypeError",
     "evalue": "'tuple' object does not support item assignment",
     "output_type": "error",
     "traceback": [
      "\u001b[0;31m---------------------------------------------------------------------------\u001b[0m",
      "\u001b[0;31mTypeError\u001b[0m                                 Traceback (most recent call last)",
      "Cell \u001b[0;32mIn[34], line 1\u001b[0m\n\u001b[0;32m----> 1\u001b[0m \u001b[43mtup\u001b[49m\u001b[43m[\u001b[49m\u001b[38;5;241;43m7.8\u001b[39;49m\u001b[43m]\u001b[49m \u001b[38;5;241m=\u001b[39m \u001b[38;5;241m5\u001b[39m\n",
      "\u001b[0;31mTypeError\u001b[0m: 'tuple' object does not support item assignment"
     ]
    }
   ],
   "source": [
    "tup[7.8] = 5"
   ]
  },
  {
   "cell_type": "code",
   "execution_count": null,
   "id": "ddecbdc1-609b-4f26-ab4f-8a8cbd1728cb",
   "metadata": {},
   "outputs": [],
   "source": []
  }
 ],
 "metadata": {
  "kernelspec": {
   "display_name": "Python 3 (ipykernel)",
   "language": "python",
   "name": "python3"
  },
  "language_info": {
   "codemirror_mode": {
    "name": "ipython",
    "version": 3
   },
   "file_extension": ".py",
   "mimetype": "text/x-python",
   "name": "python",
   "nbconvert_exporter": "python",
   "pygments_lexer": "ipython3",
   "version": "3.10.8"
  }
 },
 "nbformat": 4,
 "nbformat_minor": 5
}
