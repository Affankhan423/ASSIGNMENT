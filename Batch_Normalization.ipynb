{
  "nbformat": 4,
  "nbformat_minor": 0,
  "metadata": {
    "colab": {
      "provenance": []
    },
    "kernelspec": {
      "name": "python3",
      "display_name": "Python 3"
    },
    "language_info": {
      "name": "python"
    }
  },
  "cells": [
    {
      "cell_type": "code",
      "execution_count": 1,
      "metadata": {
        "id": "Z1uCKe4-RAEz"
      },
      "outputs": [],
      "source": [
        "import tensorflow as tf\n",
        "import matplotlib.pyplot as plt\n",
        "import seaborn as sns\n",
        "import pandas as pd\n",
        "import os"
      ]
    },
    {
      "cell_type": "markdown",
      "source": [
        "#Explain the concept of batch normalization in the context of Artificial Neural Network"
      ],
      "metadata": {
        "id": "IwK9bKuB25jZ"
      }
    },
    {
      "cell_type": "markdown",
      "source": [
        "- Batch Normalization (BN) is a technique introduced to address the internal covariate shift problem in neural networks. The internal covariate shift refers to the change in the distribution of the input to a neural network's layer during training, which can slow down the convergence of the network.\n",
        "\n",
        "- Main usage of batch normalization is that training become faster and less number of epochs are needed to reach to the convergence position\n",
        "\n",
        "- Batch Normalization helps in reducing the internal covariate shift, allowing the network to converge faster during training. This is because it normalizes the input to a layer by adjusting the mean and standard deviation of the activations.\n",
        "\n",
        "- Batch Normalization enables the use of higher learning rates, which can speed up the training process\n",
        "\n",
        "- there are two ways in batch normalisation to normalise\n",
        "  - first we normalise summation of weight z = w1x1 + w2x2 + w3x3  then put into activation function\n",
        "  - second method we put z = w1x1 + w2x2 + w3x3 in activation function then normalize it\n",
        "  -  in Batch Normalization every neuron contain  two trainable and two non trainable parameter"
      ],
      "metadata": {
        "id": "DMialP3s270Z"
      }
    },
    {
      "cell_type": "markdown",
      "source": [
        "# Describe the benefits of using batch normalization during training"
      ],
      "metadata": {
        "id": "-YU3aoDQ6pUT"
      }
    },
    {
      "cell_type": "markdown",
      "source": [
        "- Batch Normalization helps in reducing the internal covariate shift, leading to faster convergence during training.\n",
        "- Batch Normalization enables the use of higher learning rates, which can speed up the training process\n",
        "- Batch Normalization is versatile and can be applied to different types of neural network architectures, including fully connected layers, convolutional layers, and recurrent layers.\n",
        "- Reduce Overfitting"
      ],
      "metadata": {
        "id": "4JDHabep6_ZE"
      }
    },
    {
      "cell_type": "markdown",
      "source": [
        "#Q3 Discuss the working principle of batch normalization, including the normalization step and the learnable  parameters"
      ],
      "metadata": {
        "id": "yBfj7Jt89I4o"
      }
    },
    {
      "cell_type": "markdown",
      "source": [
        "Batch Normalization (BN) works by normalizing the input to a neural network layer during training. For each mini-batch, it computes the mean and standard deviation of the activations. The inputs are then normalized by subtracting the mean and dividing by the standard deviation. A scale and shift parameter, learned during training, are applied to allow the model to adapt the normalized values. This normalization step helps mitigate the internal covariate shift, leading to faster convergence and stable training. The learnable parameters (gamma and beta) enable the model to retain its representational capacity. Batch Normalization is applied independently to each feature, providing a consistent and adaptive normalization process across the entire network"
      ],
      "metadata": {
        "id": "2MN9UFJ59H-j"
      }
    },
    {
      "cell_type": "markdown",
      "source": [
        "### Choose a dataset of your choice (e.g., MNIST, CIFAR-10) and preprocess it"
      ],
      "metadata": {
        "id": "Froqg82MRoyJ"
      }
    },
    {
      "cell_type": "code",
      "source": [
        "mnist = tf.keras.datasets.mnist"
      ],
      "metadata": {
        "id": "NPuXib0KRWne"
      },
      "execution_count": 2,
      "outputs": []
    },
    {
      "cell_type": "code",
      "source": [
        "(X_train_full, y_train_full) , (X_test,y_test) = mnist.load_data()"
      ],
      "metadata": {
        "colab": {
          "base_uri": "https://localhost:8080/"
        },
        "id": "NRTXLWspRx4m",
        "outputId": "f3ddd2f5-fd70-4719-9a74-016522c6097f"
      },
      "execution_count": 3,
      "outputs": [
        {
          "output_type": "stream",
          "name": "stdout",
          "text": [
            "Downloading data from https://storage.googleapis.com/tensorflow/tf-keras-datasets/mnist.npz\n",
            "11490434/11490434 [==============================] - 1s 0us/step\n"
          ]
        }
      ]
    },
    {
      "cell_type": "code",
      "source": [
        "df = pd.DataFrame()\n",
        "df[\"X_train\"] = X_train_full.shape\n",
        "df[\"X_test\"] = X_test.shape\n",
        "df"
      ],
      "metadata": {
        "colab": {
          "base_uri": "https://localhost:8080/",
          "height": 143
        },
        "id": "f-IXgS8YR-f4",
        "outputId": "fbc7b3f2-5bb2-42c5-8dba-071abc58a004"
      },
      "execution_count": 4,
      "outputs": [
        {
          "output_type": "execute_result",
          "data": {
            "text/plain": [
              "   X_train  X_test\n",
              "0    60000   10000\n",
              "1       28      28\n",
              "2       28      28"
            ],
            "text/html": [
              "\n",
              "  <div id=\"df-0fcbde12-d6ea-425a-990c-0d2b9def70fa\" class=\"colab-df-container\">\n",
              "    <div>\n",
              "<style scoped>\n",
              "    .dataframe tbody tr th:only-of-type {\n",
              "        vertical-align: middle;\n",
              "    }\n",
              "\n",
              "    .dataframe tbody tr th {\n",
              "        vertical-align: top;\n",
              "    }\n",
              "\n",
              "    .dataframe thead th {\n",
              "        text-align: right;\n",
              "    }\n",
              "</style>\n",
              "<table border=\"1\" class=\"dataframe\">\n",
              "  <thead>\n",
              "    <tr style=\"text-align: right;\">\n",
              "      <th></th>\n",
              "      <th>X_train</th>\n",
              "      <th>X_test</th>\n",
              "    </tr>\n",
              "  </thead>\n",
              "  <tbody>\n",
              "    <tr>\n",
              "      <th>0</th>\n",
              "      <td>60000</td>\n",
              "      <td>10000</td>\n",
              "    </tr>\n",
              "    <tr>\n",
              "      <th>1</th>\n",
              "      <td>28</td>\n",
              "      <td>28</td>\n",
              "    </tr>\n",
              "    <tr>\n",
              "      <th>2</th>\n",
              "      <td>28</td>\n",
              "      <td>28</td>\n",
              "    </tr>\n",
              "  </tbody>\n",
              "</table>\n",
              "</div>\n",
              "    <div class=\"colab-df-buttons\">\n",
              "\n",
              "  <div class=\"colab-df-container\">\n",
              "    <button class=\"colab-df-convert\" onclick=\"convertToInteractive('df-0fcbde12-d6ea-425a-990c-0d2b9def70fa')\"\n",
              "            title=\"Convert this dataframe to an interactive table.\"\n",
              "            style=\"display:none;\">\n",
              "\n",
              "  <svg xmlns=\"http://www.w3.org/2000/svg\" height=\"24px\" viewBox=\"0 -960 960 960\">\n",
              "    <path d=\"M120-120v-720h720v720H120Zm60-500h600v-160H180v160Zm220 220h160v-160H400v160Zm0 220h160v-160H400v160ZM180-400h160v-160H180v160Zm440 0h160v-160H620v160ZM180-180h160v-160H180v160Zm440 0h160v-160H620v160Z\"/>\n",
              "  </svg>\n",
              "    </button>\n",
              "\n",
              "  <style>\n",
              "    .colab-df-container {\n",
              "      display:flex;\n",
              "      gap: 12px;\n",
              "    }\n",
              "\n",
              "    .colab-df-convert {\n",
              "      background-color: #E8F0FE;\n",
              "      border: none;\n",
              "      border-radius: 50%;\n",
              "      cursor: pointer;\n",
              "      display: none;\n",
              "      fill: #1967D2;\n",
              "      height: 32px;\n",
              "      padding: 0 0 0 0;\n",
              "      width: 32px;\n",
              "    }\n",
              "\n",
              "    .colab-df-convert:hover {\n",
              "      background-color: #E2EBFA;\n",
              "      box-shadow: 0px 1px 2px rgba(60, 64, 67, 0.3), 0px 1px 3px 1px rgba(60, 64, 67, 0.15);\n",
              "      fill: #174EA6;\n",
              "    }\n",
              "\n",
              "    .colab-df-buttons div {\n",
              "      margin-bottom: 4px;\n",
              "    }\n",
              "\n",
              "    [theme=dark] .colab-df-convert {\n",
              "      background-color: #3B4455;\n",
              "      fill: #D2E3FC;\n",
              "    }\n",
              "\n",
              "    [theme=dark] .colab-df-convert:hover {\n",
              "      background-color: #434B5C;\n",
              "      box-shadow: 0px 1px 3px 1px rgba(0, 0, 0, 0.15);\n",
              "      filter: drop-shadow(0px 1px 2px rgba(0, 0, 0, 0.3));\n",
              "      fill: #FFFFFF;\n",
              "    }\n",
              "  </style>\n",
              "\n",
              "    <script>\n",
              "      const buttonEl =\n",
              "        document.querySelector('#df-0fcbde12-d6ea-425a-990c-0d2b9def70fa button.colab-df-convert');\n",
              "      buttonEl.style.display =\n",
              "        google.colab.kernel.accessAllowed ? 'block' : 'none';\n",
              "\n",
              "      async function convertToInteractive(key) {\n",
              "        const element = document.querySelector('#df-0fcbde12-d6ea-425a-990c-0d2b9def70fa');\n",
              "        const dataTable =\n",
              "          await google.colab.kernel.invokeFunction('convertToInteractive',\n",
              "                                                    [key], {});\n",
              "        if (!dataTable) return;\n",
              "\n",
              "        const docLinkHtml = 'Like what you see? Visit the ' +\n",
              "          '<a target=\"_blank\" href=https://colab.research.google.com/notebooks/data_table.ipynb>data table notebook</a>'\n",
              "          + ' to learn more about interactive tables.';\n",
              "        element.innerHTML = '';\n",
              "        dataTable['output_type'] = 'display_data';\n",
              "        await google.colab.output.renderOutput(dataTable, element);\n",
              "        const docLink = document.createElement('div');\n",
              "        docLink.innerHTML = docLinkHtml;\n",
              "        element.appendChild(docLink);\n",
              "      }\n",
              "    </script>\n",
              "  </div>\n",
              "\n",
              "\n",
              "<div id=\"df-7e9fe65c-1d53-4341-a681-a88da40062b6\">\n",
              "  <button class=\"colab-df-quickchart\" onclick=\"quickchart('df-7e9fe65c-1d53-4341-a681-a88da40062b6')\"\n",
              "            title=\"Suggest charts\"\n",
              "            style=\"display:none;\">\n",
              "\n",
              "<svg xmlns=\"http://www.w3.org/2000/svg\" height=\"24px\"viewBox=\"0 0 24 24\"\n",
              "     width=\"24px\">\n",
              "    <g>\n",
              "        <path d=\"M19 3H5c-1.1 0-2 .9-2 2v14c0 1.1.9 2 2 2h14c1.1 0 2-.9 2-2V5c0-1.1-.9-2-2-2zM9 17H7v-7h2v7zm4 0h-2V7h2v10zm4 0h-2v-4h2v4z\"/>\n",
              "    </g>\n",
              "</svg>\n",
              "  </button>\n",
              "\n",
              "<style>\n",
              "  .colab-df-quickchart {\n",
              "      --bg-color: #E8F0FE;\n",
              "      --fill-color: #1967D2;\n",
              "      --hover-bg-color: #E2EBFA;\n",
              "      --hover-fill-color: #174EA6;\n",
              "      --disabled-fill-color: #AAA;\n",
              "      --disabled-bg-color: #DDD;\n",
              "  }\n",
              "\n",
              "  [theme=dark] .colab-df-quickchart {\n",
              "      --bg-color: #3B4455;\n",
              "      --fill-color: #D2E3FC;\n",
              "      --hover-bg-color: #434B5C;\n",
              "      --hover-fill-color: #FFFFFF;\n",
              "      --disabled-bg-color: #3B4455;\n",
              "      --disabled-fill-color: #666;\n",
              "  }\n",
              "\n",
              "  .colab-df-quickchart {\n",
              "    background-color: var(--bg-color);\n",
              "    border: none;\n",
              "    border-radius: 50%;\n",
              "    cursor: pointer;\n",
              "    display: none;\n",
              "    fill: var(--fill-color);\n",
              "    height: 32px;\n",
              "    padding: 0;\n",
              "    width: 32px;\n",
              "  }\n",
              "\n",
              "  .colab-df-quickchart:hover {\n",
              "    background-color: var(--hover-bg-color);\n",
              "    box-shadow: 0 1px 2px rgba(60, 64, 67, 0.3), 0 1px 3px 1px rgba(60, 64, 67, 0.15);\n",
              "    fill: var(--button-hover-fill-color);\n",
              "  }\n",
              "\n",
              "  .colab-df-quickchart-complete:disabled,\n",
              "  .colab-df-quickchart-complete:disabled:hover {\n",
              "    background-color: var(--disabled-bg-color);\n",
              "    fill: var(--disabled-fill-color);\n",
              "    box-shadow: none;\n",
              "  }\n",
              "\n",
              "  .colab-df-spinner {\n",
              "    border: 2px solid var(--fill-color);\n",
              "    border-color: transparent;\n",
              "    border-bottom-color: var(--fill-color);\n",
              "    animation:\n",
              "      spin 1s steps(1) infinite;\n",
              "  }\n",
              "\n",
              "  @keyframes spin {\n",
              "    0% {\n",
              "      border-color: transparent;\n",
              "      border-bottom-color: var(--fill-color);\n",
              "      border-left-color: var(--fill-color);\n",
              "    }\n",
              "    20% {\n",
              "      border-color: transparent;\n",
              "      border-left-color: var(--fill-color);\n",
              "      border-top-color: var(--fill-color);\n",
              "    }\n",
              "    30% {\n",
              "      border-color: transparent;\n",
              "      border-left-color: var(--fill-color);\n",
              "      border-top-color: var(--fill-color);\n",
              "      border-right-color: var(--fill-color);\n",
              "    }\n",
              "    40% {\n",
              "      border-color: transparent;\n",
              "      border-right-color: var(--fill-color);\n",
              "      border-top-color: var(--fill-color);\n",
              "    }\n",
              "    60% {\n",
              "      border-color: transparent;\n",
              "      border-right-color: var(--fill-color);\n",
              "    }\n",
              "    80% {\n",
              "      border-color: transparent;\n",
              "      border-right-color: var(--fill-color);\n",
              "      border-bottom-color: var(--fill-color);\n",
              "    }\n",
              "    90% {\n",
              "      border-color: transparent;\n",
              "      border-bottom-color: var(--fill-color);\n",
              "    }\n",
              "  }\n",
              "</style>\n",
              "\n",
              "  <script>\n",
              "    async function quickchart(key) {\n",
              "      const quickchartButtonEl =\n",
              "        document.querySelector('#' + key + ' button');\n",
              "      quickchartButtonEl.disabled = true;  // To prevent multiple clicks.\n",
              "      quickchartButtonEl.classList.add('colab-df-spinner');\n",
              "      try {\n",
              "        const charts = await google.colab.kernel.invokeFunction(\n",
              "            'suggestCharts', [key], {});\n",
              "      } catch (error) {\n",
              "        console.error('Error during call to suggestCharts:', error);\n",
              "      }\n",
              "      quickchartButtonEl.classList.remove('colab-df-spinner');\n",
              "      quickchartButtonEl.classList.add('colab-df-quickchart-complete');\n",
              "    }\n",
              "    (() => {\n",
              "      let quickchartButtonEl =\n",
              "        document.querySelector('#df-7e9fe65c-1d53-4341-a681-a88da40062b6 button');\n",
              "      quickchartButtonEl.style.display =\n",
              "        google.colab.kernel.accessAllowed ? 'block' : 'none';\n",
              "    })();\n",
              "  </script>\n",
              "</div>\n",
              "\n",
              "  <div id=\"id_5a241e41-e648-43db-b8b9-817c2de5ecb5\">\n",
              "    <style>\n",
              "      .colab-df-generate {\n",
              "        background-color: #E8F0FE;\n",
              "        border: none;\n",
              "        border-radius: 50%;\n",
              "        cursor: pointer;\n",
              "        display: none;\n",
              "        fill: #1967D2;\n",
              "        height: 32px;\n",
              "        padding: 0 0 0 0;\n",
              "        width: 32px;\n",
              "      }\n",
              "\n",
              "      .colab-df-generate:hover {\n",
              "        background-color: #E2EBFA;\n",
              "        box-shadow: 0px 1px 2px rgba(60, 64, 67, 0.3), 0px 1px 3px 1px rgba(60, 64, 67, 0.15);\n",
              "        fill: #174EA6;\n",
              "      }\n",
              "\n",
              "      [theme=dark] .colab-df-generate {\n",
              "        background-color: #3B4455;\n",
              "        fill: #D2E3FC;\n",
              "      }\n",
              "\n",
              "      [theme=dark] .colab-df-generate:hover {\n",
              "        background-color: #434B5C;\n",
              "        box-shadow: 0px 1px 3px 1px rgba(0, 0, 0, 0.15);\n",
              "        filter: drop-shadow(0px 1px 2px rgba(0, 0, 0, 0.3));\n",
              "        fill: #FFFFFF;\n",
              "      }\n",
              "    </style>\n",
              "    <button class=\"colab-df-generate\" onclick=\"generateWithVariable('df')\"\n",
              "            title=\"Generate code using this dataframe.\"\n",
              "            style=\"display:none;\">\n",
              "\n",
              "  <svg xmlns=\"http://www.w3.org/2000/svg\" height=\"24px\"viewBox=\"0 0 24 24\"\n",
              "       width=\"24px\">\n",
              "    <path d=\"M7,19H8.4L18.45,9,17,7.55,7,17.6ZM5,21V16.75L18.45,3.32a2,2,0,0,1,2.83,0l1.4,1.43a1.91,1.91,0,0,1,.58,1.4,1.91,1.91,0,0,1-.58,1.4L9.25,21ZM18.45,9,17,7.55Zm-12,3A5.31,5.31,0,0,0,4.9,8.1,5.31,5.31,0,0,0,1,6.5,5.31,5.31,0,0,0,4.9,4.9,5.31,5.31,0,0,0,6.5,1,5.31,5.31,0,0,0,8.1,4.9,5.31,5.31,0,0,0,12,6.5,5.46,5.46,0,0,0,6.5,12Z\"/>\n",
              "  </svg>\n",
              "    </button>\n",
              "    <script>\n",
              "      (() => {\n",
              "      const buttonEl =\n",
              "        document.querySelector('#id_5a241e41-e648-43db-b8b9-817c2de5ecb5 button.colab-df-generate');\n",
              "      buttonEl.style.display =\n",
              "        google.colab.kernel.accessAllowed ? 'block' : 'none';\n",
              "\n",
              "      buttonEl.onclick = () => {\n",
              "        google.colab.notebook.generateWithVariable('df');\n",
              "      }\n",
              "      })();\n",
              "    </script>\n",
              "  </div>\n",
              "\n",
              "    </div>\n",
              "  </div>\n"
            ]
          },
          "metadata": {},
          "execution_count": 4
        }
      ]
    },
    {
      "cell_type": "code",
      "source": [
        "X_valid,X_train = X_train_full[:5000]/225.0 , X_train_full[5000:]/225.0\n",
        "y_valid ,y_train = y_train_full[:5000],y_train_full[5000:]\n",
        "\n",
        "X_test = X_test/255."
      ],
      "metadata": {
        "id": "BXZwbyPQSElr"
      },
      "execution_count": 5,
      "outputs": []
    },
    {
      "cell_type": "code",
      "source": [
        "plt.figure(figsize=(12,10))\n",
        "sns.heatmap(X_train[3],annot=True,cmap=\"binary\")"
      ],
      "metadata": {
        "colab": {
          "base_uri": "https://localhost:8080/",
          "height": 847
        },
        "id": "MhXtsiHtSNqA",
        "outputId": "2aad7dbd-1445-4b37-d8b0-7a332189837b"
      },
      "execution_count": 8,
      "outputs": [
        {
          "output_type": "execute_result",
          "data": {
            "text/plain": [
              "<Axes: >"
            ]
          },
          "metadata": {},
          "execution_count": 8
        },
        {
          "output_type": "display_data",
          "data": {
            "text/plain": [
              "<Figure size 1200x1000 with 2 Axes>"
            ],
            "image/png": "[encoded data removed]"
          },
          "metadata": {}
        }
      ]
    },
    {
      "cell_type": "markdown",
      "source": [
        "#### Implement a simple feedforward neural network using any deep learning framework/library"
      ],
      "metadata": {
        "id": "yBDB39N1ha93"
      }
    },
    {
      "cell_type": "markdown",
      "source": [
        " Train the neural network on the chosen dataset without using batch normalization"
      ],
      "metadata": {
        "id": "5plqaNu3nrWY"
      }
    },
    {
      "cell_type": "code",
      "source": [
        "layers = [tf.keras.layers.Flatten(input_shape=[28,28],name=\"inputLayer\"),\n",
        "          tf.keras.layers.Dense(300,activation=\"relu\",name=\"hiddenLayer1\"),\n",
        "          tf.keras.layers.Dense(100,activation=\"relu\",name=\"hiddenLayer2\"),\n",
        "          tf.keras.layers.Dense(10,activation=\"softmax\",name=\"output\")]\n",
        "model_clf=tf.keras.models.Sequential(layers)\n",
        "model_clf.summary()"
      ],
      "metadata": {
        "colab": {
          "base_uri": "https://localhost:8080/"
        },
        "id": "6XP8nIevSpZa",
        "outputId": "2ae2837e-581a-4108-a746-4677b396d586"
      },
      "execution_count": 10,
      "outputs": [
        {
          "output_type": "stream",
          "name": "stdout",
          "text": [
            "Model: \"sequential_1\"\n",
            "_________________________________________________________________\n",
            " Layer (type)                Output Shape              Param #   \n",
            "=================================================================\n",
            " inputLayer (Flatten)        (None, 784)               0         \n",
            "                                                                 \n",
            " hiddenLayer1 (Dense)        (None, 300)               235500    \n",
            "                                                                 \n",
            " hiddenLayer2 (Dense)        (None, 100)               30100     \n",
            "                                                                 \n",
            " output (Dense)              (None, 10)                1010      \n",
            "                                                                 \n",
            "=================================================================\n",
            "Total params: 266610 (1.02 MB)\n",
            "Trainable params: 266610 (1.02 MB)\n",
            "Non-trainable params: 0 (0.00 Byte)\n",
            "_________________________________________________________________\n"
          ]
        }
      ]
    },
    {
      "cell_type": "code",
      "source": [
        "784*300+300"
      ],
      "metadata": {
        "colab": {
          "base_uri": "https://localhost:8080/"
        },
        "id": "8brbXvynjdPY",
        "outputId": "a8126fbe-2296-405e-be2c-05676c523d26"
      },
      "execution_count": 11,
      "outputs": [
        {
          "output_type": "execute_result",
          "data": {
            "text/plain": [
              "235500"
            ]
          },
          "metadata": {},
          "execution_count": 11
        }
      ]
    },
    {
      "cell_type": "code",
      "source": [
        "LOSS = \"sparse_categorical_crossentropy\"\n",
        "OPTIMIZER = \"sgd\"\n",
        "model_clf.compile(optimizer=OPTIMIZER,loss=LOSS,metrics=[\"accuracy\"])"
      ],
      "metadata": {
        "id": "yey7e4zikDPj"
      },
      "execution_count": 17,
      "outputs": []
    },
    {
      "cell_type": "code",
      "source": [
        "EPOCHS=20\n",
        "history = model_clf.fit(X_train,y_train,epochs=EPOCHS,validation_data=(X_test,y_test))"
      ],
      "metadata": {
        "colab": {
          "base_uri": "https://localhost:8080/"
        },
        "id": "i6HiEP--lKap",
        "outputId": "ef834637-43d1-46c6-ac85-1808a658b975"
      },
      "execution_count": 18,
      "outputs": [
        {
          "output_type": "stream",
          "name": "stdout",
          "text": [
            "Epoch 1/20\n",
            "1719/1719 [==============================] - 9s 5ms/step - loss: 0.1417 - accuracy: 0.9599 - val_loss: 0.1509 - val_accuracy: 0.9590\n",
            "Epoch 2/20\n",
            "1719/1719 [==============================] - 9s 5ms/step - loss: 0.1270 - accuracy: 0.9646 - val_loss: 0.1394 - val_accuracy: 0.9602\n",
            "Epoch 3/20\n",
            "1719/1719 [==============================] - 8s 5ms/step - loss: 0.1148 - accuracy: 0.9673 - val_loss: 0.1257 - val_accuracy: 0.9649\n",
            "Epoch 4/20\n",
            "1719/1719 [==============================] - 9s 5ms/step - loss: 0.1044 - accuracy: 0.9707 - val_loss: 0.1183 - val_accuracy: 0.9669\n",
            "Epoch 5/20\n",
            "1719/1719 [==============================] - 8s 5ms/step - loss: 0.0952 - accuracy: 0.9730 - val_loss: 0.1131 - val_accuracy: 0.9682\n",
            "Epoch 6/20\n",
            "1719/1719 [==============================] - 9s 5ms/step - loss: 0.0875 - accuracy: 0.9757 - val_loss: 0.1059 - val_accuracy: 0.9704\n",
            "Epoch 7/20\n",
            "1719/1719 [==============================] - 9s 5ms/step - loss: 0.0804 - accuracy: 0.9776 - val_loss: 0.1046 - val_accuracy: 0.9702\n",
            "Epoch 8/20\n",
            "1719/1719 [==============================] - 8s 5ms/step - loss: 0.0747 - accuracy: 0.9789 - val_loss: 0.1008 - val_accuracy: 0.9722\n",
            "Epoch 9/20\n",
            "1719/1719 [==============================] - 10s 6ms/step - loss: 0.0687 - accuracy: 0.9808 - val_loss: 0.0936 - val_accuracy: 0.9737\n",
            "Epoch 10/20\n",
            "1719/1719 [==============================] - 9s 5ms/step - loss: 0.0638 - accuracy: 0.9827 - val_loss: 0.0901 - val_accuracy: 0.9755\n",
            "Epoch 11/20\n",
            "1719/1719 [==============================] - 7s 4ms/step - loss: 0.0594 - accuracy: 0.9837 - val_loss: 0.0915 - val_accuracy: 0.9734\n",
            "Epoch 12/20\n",
            "1719/1719 [==============================] - 9s 5ms/step - loss: 0.0556 - accuracy: 0.9848 - val_loss: 0.0846 - val_accuracy: 0.9759\n",
            "Epoch 13/20\n",
            "1719/1719 [==============================] - 9s 5ms/step - loss: 0.0515 - accuracy: 0.9863 - val_loss: 0.0836 - val_accuracy: 0.9759\n",
            "Epoch 14/20\n",
            "1719/1719 [==============================] - 8s 5ms/step - loss: 0.0482 - accuracy: 0.9870 - val_loss: 0.0811 - val_accuracy: 0.9764\n",
            "Epoch 15/20\n",
            "1719/1719 [==============================] - 9s 5ms/step - loss: 0.0447 - accuracy: 0.9887 - val_loss: 0.0837 - val_accuracy: 0.9754\n",
            "Epoch 16/20\n",
            "1719/1719 [==============================] - 8s 5ms/step - loss: 0.0421 - accuracy: 0.9892 - val_loss: 0.0792 - val_accuracy: 0.9765\n",
            "Epoch 17/20\n",
            "1719/1719 [==============================] - 8s 5ms/step - loss: 0.0391 - accuracy: 0.9901 - val_loss: 0.0796 - val_accuracy: 0.9764\n",
            "Epoch 18/20\n",
            "1719/1719 [==============================] - 10s 6ms/step - loss: 0.0368 - accuracy: 0.9910 - val_loss: 0.0761 - val_accuracy: 0.9776\n",
            "Epoch 19/20\n",
            "1719/1719 [==============================] - 7s 4ms/step - loss: 0.0344 - accuracy: 0.9917 - val_loss: 0.0748 - val_accuracy: 0.9779\n",
            "Epoch 20/20\n",
            "1719/1719 [==============================] - 9s 5ms/step - loss: 0.0326 - accuracy: 0.9924 - val_loss: 0.0736 - val_accuracy: 0.9781\n"
          ]
        }
      ]
    },
    {
      "cell_type": "code",
      "source": [
        "df1 = pd.DataFrame(history.history)\n",
        "df1"
      ],
      "metadata": {
        "colab": {
          "base_uri": "https://localhost:8080/",
          "height": 676
        },
        "id": "-25mvANrm3V2",
        "outputId": "b40bc718-a920-4819-9007-d139b9fc298f"
      },
      "execution_count": 20,
      "outputs": [
        {
          "output_type": "execute_result",
          "data": {
            "text/plain": [
              "        loss  accuracy  val_loss  val_accuracy\n",
              "0   0.141711  0.959855  0.150901        0.9590\n",
              "1   0.126963  0.964618  0.139427        0.9602\n",
              "2   0.114763  0.967345  0.125713        0.9649\n",
              "3   0.104361  0.970673  0.118326        0.9669\n",
              "4   0.095199  0.972964  0.113110        0.9682\n",
              "5   0.087490  0.975691  0.105907        0.9704\n",
              "6   0.080379  0.977636  0.104646        0.9702\n",
              "7   0.074674  0.978927  0.100836        0.9722\n",
              "8   0.068694  0.980782  0.093587        0.9737\n",
              "9   0.063849  0.982655  0.090077        0.9755\n",
              "10  0.059396  0.983655  0.091519        0.9734\n",
              "11  0.055557  0.984800  0.084595        0.9759\n",
              "12  0.051548  0.986255  0.083640        0.9759\n",
              "13  0.048232  0.986982  0.081072        0.9764\n",
              "14  0.044747  0.988727  0.083714        0.9754\n",
              "15  0.042064  0.989236  0.079165        0.9765\n",
              "16  0.039118  0.990145  0.079563        0.9764\n",
              "17  0.036806  0.991036  0.076105        0.9776\n",
              "18  0.034450  0.991691  0.074755        0.9779\n",
              "19  0.032571  0.992400  0.073614        0.9781"
            ],
            "text/html": [
              "\n",
              "  <div id=\"df-624b977b-1c02-40cb-a657-918cd200662b\" class=\"colab-df-container\">\n",
              "    <div>\n",
              "<style scoped>\n",
              "    .dataframe tbody tr th:only-of-type {\n",
              "        vertical-align: middle;\n",
              "    }\n",
              "\n",
              "    .dataframe tbody tr th {\n",
              "        vertical-align: top;\n",
              "    }\n",
              "\n",
              "    .dataframe thead th {\n",
              "        text-align: right;\n",
              "    }\n",
              "</style>\n",
              "<table border=\"1\" class=\"dataframe\">\n",
              "  <thead>\n",
              "    <tr style=\"text-align: right;\">\n",
              "      <th></th>\n",
              "      <th>loss</th>\n",
              "      <th>accuracy</th>\n",
              "      <th>val_loss</th>\n",
              "      <th>val_accuracy</th>\n",
              "    </tr>\n",
              "  </thead>\n",
              "  <tbody>\n",
              "    <tr>\n",
              "      <th>0</th>\n",
              "      <td>0.141711</td>\n",
              "      <td>0.959855</td>\n",
              "      <td>0.150901</td>\n",
              "      <td>0.9590</td>\n",
              "    </tr>\n",
              "    <tr>\n",
              "      <th>1</th>\n",
              "      <td>0.126963</td>\n",
              "      <td>0.964618</td>\n",
              "      <td>0.139427</td>\n",
              "      <td>0.9602</td>\n",
              "    </tr>\n",
              "    <tr>\n",
              "      <th>2</th>\n",
              "      <td>0.114763</td>\n",
              "      <td>0.967345</td>\n",
              "      <td>0.125713</td>\n",
              "      <td>0.9649</td>\n",
              "    </tr>\n",
              "    <tr>\n",
              "      <th>3</th>\n",
              "      <td>0.104361</td>\n",
              "      <td>0.970673</td>\n",
              "      <td>0.118326</td>\n",
              "      <td>0.9669</td>\n",
              "    </tr>\n",
              "    <tr>\n",
              "      <th>4</th>\n",
              "      <td>0.095199</td>\n",
              "      <td>0.972964</td>\n",
              "      <td>0.113110</td>\n",
              "      <td>0.9682</td>\n",
              "    </tr>\n",
              "    <tr>\n",
              "      <th>5</th>\n",
              "      <td>0.087490</td>\n",
              "      <td>0.975691</td>\n",
              "      <td>0.105907</td>\n",
              "      <td>0.9704</td>\n",
              "    </tr>\n",
              "    <tr>\n",
              "      <th>6</th>\n",
              "      <td>0.080379</td>\n",
              "      <td>0.977636</td>\n",
              "      <td>0.104646</td>\n",
              "      <td>0.9702</td>\n",
              "    </tr>\n",
              "    <tr>\n",
              "      <th>7</th>\n",
              "      <td>0.074674</td>\n",
              "      <td>0.978927</td>\n",
              "      <td>0.100836</td>\n",
              "      <td>0.9722</td>\n",
              "    </tr>\n",
              "    <tr>\n",
              "      <th>8</th>\n",
              "      <td>0.068694</td>\n",
              "      <td>0.980782</td>\n",
              "      <td>0.093587</td>\n",
              "      <td>0.9737</td>\n",
              "    </tr>\n",
              "    <tr>\n",
              "      <th>9</th>\n",
              "      <td>0.063849</td>\n",
              "      <td>0.982655</td>\n",
              "      <td>0.090077</td>\n",
              "      <td>0.9755</td>\n",
              "    </tr>\n",
              "    <tr>\n",
              "      <th>10</th>\n",
              "      <td>0.059396</td>\n",
              "      <td>0.983655</td>\n",
              "      <td>0.091519</td>\n",
              "      <td>0.9734</td>\n",
              "    </tr>\n",
              "    <tr>\n",
              "      <th>11</th>\n",
              "      <td>0.055557</td>\n",
              "      <td>0.984800</td>\n",
              "      <td>0.084595</td>\n",
              "      <td>0.9759</td>\n",
              "    </tr>\n",
              "    <tr>\n",
              "      <th>12</th>\n",
              "      <td>0.051548</td>\n",
              "      <td>0.986255</td>\n",
              "      <td>0.083640</td>\n",
              "      <td>0.9759</td>\n",
              "    </tr>\n",
              "    <tr>\n",
              "      <th>13</th>\n",
              "      <td>0.048232</td>\n",
              "      <td>0.986982</td>\n",
              "      <td>0.081072</td>\n",
              "      <td>0.9764</td>\n",
              "    </tr>\n",
              "    <tr>\n",
              "      <th>14</th>\n",
              "      <td>0.044747</td>\n",
              "      <td>0.988727</td>\n",
              "      <td>0.083714</td>\n",
              "      <td>0.9754</td>\n",
              "    </tr>\n",
              "    <tr>\n",
              "      <th>15</th>\n",
              "      <td>0.042064</td>\n",
              "      <td>0.989236</td>\n",
              "      <td>0.079165</td>\n",
              "      <td>0.9765</td>\n",
              "    </tr>\n",
              "    <tr>\n",
              "      <th>16</th>\n",
              "      <td>0.039118</td>\n",
              "      <td>0.990145</td>\n",
              "      <td>0.079563</td>\n",
              "      <td>0.9764</td>\n",
              "    </tr>\n",
              "    <tr>\n",
              "      <th>17</th>\n",
              "      <td>0.036806</td>\n",
              "      <td>0.991036</td>\n",
              "      <td>0.076105</td>\n",
              "      <td>0.9776</td>\n",
              "    </tr>\n",
              "    <tr>\n",
              "      <th>18</th>\n",
              "      <td>0.034450</td>\n",
              "      <td>0.991691</td>\n",
              "      <td>0.074755</td>\n",
              "      <td>0.9779</td>\n",
              "    </tr>\n",
              "    <tr>\n",
              "      <th>19</th>\n",
              "      <td>0.032571</td>\n",
              "      <td>0.992400</td>\n",
              "      <td>0.073614</td>\n",
              "      <td>0.9781</td>\n",
              "    </tr>\n",
              "  </tbody>\n",
              "</table>\n",
              "</div>\n",
              "    <div class=\"colab-df-buttons\">\n",
              "\n",
              "  <div class=\"colab-df-container\">\n",
              "    <button class=\"colab-df-convert\" onclick=\"convertToInteractive('df-624b977b-1c02-40cb-a657-918cd200662b')\"\n",
              "            title=\"Convert this dataframe to an interactive table.\"\n",
              "            style=\"display:none;\">\n",
              "\n",
              "  <svg xmlns=\"http://www.w3.org/2000/svg\" height=\"24px\" viewBox=\"0 -960 960 960\">\n",
              "    <path d=\"M120-120v-720h720v720H120Zm60-500h600v-160H180v160Zm220 220h160v-160H400v160Zm0 220h160v-160H400v160ZM180-400h160v-160H180v160Zm440 0h160v-160H620v160ZM180-180h160v-160H180v160Zm440 0h160v-160H620v160Z\"/>\n",
              "  </svg>\n",
              "    </button>\n",
              "\n",
              "  <style>\n",
              "    .colab-df-container {\n",
              "      display:flex;\n",
              "      gap: 12px;\n",
              "    }\n",
              "\n",
              "    .colab-df-convert {\n",
              "      background-color: #E8F0FE;\n",
              "      border: none;\n",
              "      border-radius: 50%;\n",
              "      cursor: pointer;\n",
              "      display: none;\n",
              "      fill: #1967D2;\n",
              "      height: 32px;\n",
              "      padding: 0 0 0 0;\n",
              "      width: 32px;\n",
              "    }\n",
              "\n",
              "    .colab-df-convert:hover {\n",
              "      background-color: #E2EBFA;\n",
              "      box-shadow: 0px 1px 2px rgba(60, 64, 67, 0.3), 0px 1px 3px 1px rgba(60, 64, 67, 0.15);\n",
              "      fill: #174EA6;\n",
              "    }\n",
              "\n",
              "    .colab-df-buttons div {\n",
              "      margin-bottom: 4px;\n",
              "    }\n",
              "\n",
              "    [theme=dark] .colab-df-convert {\n",
              "      background-color: #3B4455;\n",
              "      fill: #D2E3FC;\n",
              "    }\n",
              "\n",
              "    [theme=dark] .colab-df-convert:hover {\n",
              "      background-color: #434B5C;\n",
              "      box-shadow: 0px 1px 3px 1px rgba(0, 0, 0, 0.15);\n",
              "      filter: drop-shadow(0px 1px 2px rgba(0, 0, 0, 0.3));\n",
              "      fill: #FFFFFF;\n",
              "    }\n",
              "  </style>\n",
              "\n",
              "    <script>\n",
              "      const buttonEl =\n",
              "        document.querySelector('#df-624b977b-1c02-40cb-a657-918cd200662b button.colab-df-convert');\n",
              "      buttonEl.style.display =\n",
              "        google.colab.kernel.accessAllowed ? 'block' : 'none';\n",
              "\n",
              "      async function convertToInteractive(key) {\n",
              "        const element = document.querySelector('#df-624b977b-1c02-40cb-a657-918cd200662b');\n",
              "        const dataTable =\n",
              "          await google.colab.kernel.invokeFunction('convertToInteractive',\n",
              "                                                    [key], {});\n",
              "        if (!dataTable) return;\n",
              "\n",
              "        const docLinkHtml = 'Like what you see? Visit the ' +\n",
              "          '<a target=\"_blank\" href=https://colab.research.google.com/notebooks/data_table.ipynb>data table notebook</a>'\n",
              "          + ' to learn more about interactive tables.';\n",
              "        element.innerHTML = '';\n",
              "        dataTable['output_type'] = 'display_data';\n",
              "        await google.colab.output.renderOutput(dataTable, element);\n",
              "        const docLink = document.createElement('div');\n",
              "        docLink.innerHTML = docLinkHtml;\n",
              "        element.appendChild(docLink);\n",
              "      }\n",
              "    </script>\n",
              "  </div>\n",
              "\n",
              "\n",
              "<div id=\"df-36ba0650-7d84-47ee-9852-4e3297bdaf29\">\n",
              "  <button class=\"colab-df-quickchart\" onclick=\"quickchart('df-36ba0650-7d84-47ee-9852-4e3297bdaf29')\"\n",
              "            title=\"Suggest charts\"\n",
              "            style=\"display:none;\">\n",
              "\n",
              "<svg xmlns=\"http://www.w3.org/2000/svg\" height=\"24px\"viewBox=\"0 0 24 24\"\n",
              "     width=\"24px\">\n",
              "    <g>\n",
              "        <path d=\"M19 3H5c-1.1 0-2 .9-2 2v14c0 1.1.9 2 2 2h14c1.1 0 2-.9 2-2V5c0-1.1-.9-2-2-2zM9 17H7v-7h2v7zm4 0h-2V7h2v10zm4 0h-2v-4h2v4z\"/>\n",
              "    </g>\n",
              "</svg>\n",
              "  </button>\n",
              "\n",
              "<style>\n",
              "  .colab-df-quickchart {\n",
              "      --bg-color: #E8F0FE;\n",
              "      --fill-color: #1967D2;\n",
              "      --hover-bg-color: #E2EBFA;\n",
              "      --hover-fill-color: #174EA6;\n",
              "      --disabled-fill-color: #AAA;\n",
              "      --disabled-bg-color: #DDD;\n",
              "  }\n",
              "\n",
              "  [theme=dark] .colab-df-quickchart {\n",
              "      --bg-color: #3B4455;\n",
              "      --fill-color: #D2E3FC;\n",
              "      --hover-bg-color: #434B5C;\n",
              "      --hover-fill-color: #FFFFFF;\n",
              "      --disabled-bg-color: #3B4455;\n",
              "      --disabled-fill-color: #666;\n",
              "  }\n",
              "\n",
              "  .colab-df-quickchart {\n",
              "    background-color: var(--bg-color);\n",
              "    border: none;\n",
              "    border-radius: 50%;\n",
              "    cursor: pointer;\n",
              "    display: none;\n",
              "    fill: var(--fill-color);\n",
              "    height: 32px;\n",
              "    padding: 0;\n",
              "    width: 32px;\n",
              "  }\n",
              "\n",
              "  .colab-df-quickchart:hover {\n",
              "    background-color: var(--hover-bg-color);\n",
              "    box-shadow: 0 1px 2px rgba(60, 64, 67, 0.3), 0 1px 3px 1px rgba(60, 64, 67, 0.15);\n",
              "    fill: var(--button-hover-fill-color);\n",
              "  }\n",
              "\n",
              "  .colab-df-quickchart-complete:disabled,\n",
              "  .colab-df-quickchart-complete:disabled:hover {\n",
              "    background-color: var(--disabled-bg-color);\n",
              "    fill: var(--disabled-fill-color);\n",
              "    box-shadow: none;\n",
              "  }\n",
              "\n",
              "  .colab-df-spinner {\n",
              "    border: 2px solid var(--fill-color);\n",
              "    border-color: transparent;\n",
              "    border-bottom-color: var(--fill-color);\n",
              "    animation:\n",
              "      spin 1s steps(1) infinite;\n",
              "  }\n",
              "\n",
              "  @keyframes spin {\n",
              "    0% {\n",
              "      border-color: transparent;\n",
              "      border-bottom-color: var(--fill-color);\n",
              "      border-left-color: var(--fill-color);\n",
              "    }\n",
              "    20% {\n",
              "      border-color: transparent;\n",
              "      border-left-color: var(--fill-color);\n",
              "      border-top-color: var(--fill-color);\n",
              "    }\n",
              "    30% {\n",
              "      border-color: transparent;\n",
              "      border-left-color: var(--fill-color);\n",
              "      border-top-color: var(--fill-color);\n",
              "      border-right-color: var(--fill-color);\n",
              "    }\n",
              "    40% {\n",
              "      border-color: transparent;\n",
              "      border-right-color: var(--fill-color);\n",
              "      border-top-color: var(--fill-color);\n",
              "    }\n",
              "    60% {\n",
              "      border-color: transparent;\n",
              "      border-right-color: var(--fill-color);\n",
              "    }\n",
              "    80% {\n",
              "      border-color: transparent;\n",
              "      border-right-color: var(--fill-color);\n",
              "      border-bottom-color: var(--fill-color);\n",
              "    }\n",
              "    90% {\n",
              "      border-color: transparent;\n",
              "      border-bottom-color: var(--fill-color);\n",
              "    }\n",
              "  }\n",
              "</style>\n",
              "\n",
              "  <script>\n",
              "    async function quickchart(key) {\n",
              "      const quickchartButtonEl =\n",
              "        document.querySelector('#' + key + ' button');\n",
              "      quickchartButtonEl.disabled = true;  // To prevent multiple clicks.\n",
              "      quickchartButtonEl.classList.add('colab-df-spinner');\n",
              "      try {\n",
              "        const charts = await google.colab.kernel.invokeFunction(\n",
              "            'suggestCharts', [key], {});\n",
              "      } catch (error) {\n",
              "        console.error('Error during call to suggestCharts:', error);\n",
              "      }\n",
              "      quickchartButtonEl.classList.remove('colab-df-spinner');\n",
              "      quickchartButtonEl.classList.add('colab-df-quickchart-complete');\n",
              "    }\n",
              "    (() => {\n",
              "      let quickchartButtonEl =\n",
              "        document.querySelector('#df-36ba0650-7d84-47ee-9852-4e3297bdaf29 button');\n",
              "      quickchartButtonEl.style.display =\n",
              "        google.colab.kernel.accessAllowed ? 'block' : 'none';\n",
              "    })();\n",
              "  </script>\n",
              "</div>\n",
              "\n",
              "  <div id=\"id_f377914f-a504-47b7-9810-6452f960132f\">\n",
              "    <style>\n",
              "      .colab-df-generate {\n",
              "        background-color: #E8F0FE;\n",
              "        border: none;\n",
              "        border-radius: 50%;\n",
              "        cursor: pointer;\n",
              "        display: none;\n",
              "        fill: #1967D2;\n",
              "        height: 32px;\n",
              "        padding: 0 0 0 0;\n",
              "        width: 32px;\n",
              "      }\n",
              "\n",
              "      .colab-df-generate:hover {\n",
              "        background-color: #E2EBFA;\n",
              "        box-shadow: 0px 1px 2px rgba(60, 64, 67, 0.3), 0px 1px 3px 1px rgba(60, 64, 67, 0.15);\n",
              "        fill: #174EA6;\n",
              "      }\n",
              "\n",
              "      [theme=dark] .colab-df-generate {\n",
              "        background-color: #3B4455;\n",
              "        fill: #D2E3FC;\n",
              "      }\n",
              "\n",
              "      [theme=dark] .colab-df-generate:hover {\n",
              "        background-color: #434B5C;\n",
              "        box-shadow: 0px 1px 3px 1px rgba(0, 0, 0, 0.15);\n",
              "        filter: drop-shadow(0px 1px 2px rgba(0, 0, 0, 0.3));\n",
              "        fill: #FFFFFF;\n",
              "      }\n",
              "    </style>\n",
              "    <button class=\"colab-df-generate\" onclick=\"generateWithVariable('df1')\"\n",
              "            title=\"Generate code using this dataframe.\"\n",
              "            style=\"display:none;\">\n",
              "\n",
              "  <svg xmlns=\"http://www.w3.org/2000/svg\" height=\"24px\"viewBox=\"0 0 24 24\"\n",
              "       width=\"24px\">\n",
              "    <path d=\"M7,19H8.4L18.45,9,17,7.55,7,17.6ZM5,21V16.75L18.45,3.32a2,2,0,0,1,2.83,0l1.4,1.43a1.91,1.91,0,0,1,.58,1.4,1.91,1.91,0,0,1-.58,1.4L9.25,21ZM18.45,9,17,7.55Zm-12,3A5.31,5.31,0,0,0,4.9,8.1,5.31,5.31,0,0,0,1,6.5,5.31,5.31,0,0,0,4.9,4.9,5.31,5.31,0,0,0,6.5,1,5.31,5.31,0,0,0,8.1,4.9,5.31,5.31,0,0,0,12,6.5,5.46,5.46,0,0,0,6.5,12Z\"/>\n",
              "  </svg>\n",
              "    </button>\n",
              "    <script>\n",
              "      (() => {\n",
              "      const buttonEl =\n",
              "        document.querySelector('#id_f377914f-a504-47b7-9810-6452f960132f button.colab-df-generate');\n",
              "      buttonEl.style.display =\n",
              "        google.colab.kernel.accessAllowed ? 'block' : 'none';\n",
              "\n",
              "      buttonEl.onclick = () => {\n",
              "        google.colab.notebook.generateWithVariable('df1');\n",
              "      }\n",
              "      })();\n",
              "    </script>\n",
              "  </div>\n",
              "\n",
              "    </div>\n",
              "  </div>\n"
            ]
          },
          "metadata": {},
          "execution_count": 20
        }
      ]
    },
    {
      "cell_type": "code",
      "source": [
        "df1.plot()"
      ],
      "metadata": {
        "colab": {
          "base_uri": "https://localhost:8080/",
          "height": 447
        },
        "id": "8M0jki4Gnaer",
        "outputId": "41f7ac34-97a8-467a-aa93-fe1f92e1bbbd"
      },
      "execution_count": 21,
      "outputs": [
        {
          "output_type": "execute_result",
          "data": {
            "text/plain": [
              "<Axes: >"
            ]
          },
          "metadata": {},
          "execution_count": 21
        },
        {
          "output_type": "display_data",
          "data": {
            "text/plain": [
              "<Figure size 640x480 with 1 Axes>"
            ],
            "image/png": "[encoded data removed]"
          },
          "metadata": {}
        }
      ]
    },
    {
      "cell_type": "code",
      "source": [
        "model_clf.evaluate(X_test,y_test)"
      ],
      "metadata": {
        "colab": {
          "base_uri": "https://localhost:8080/"
        },
        "id": "8Xh_DVnJlSBG",
        "outputId": "51ae57ab-ca48-44ca-a2d9-2303eb129301"
      },
      "execution_count": 19,
      "outputs": [
        {
          "output_type": "stream",
          "name": "stdout",
          "text": [
            "313/313 [==============================] - 1s 4ms/step - loss: 0.0736 - accuracy: 0.9781\n"
          ]
        },
        {
          "output_type": "execute_result",
          "data": {
            "text/plain": [
              "[0.07361402362585068, 0.9781000018119812]"
            ]
          },
          "metadata": {},
          "execution_count": 19
        }
      ]
    },
    {
      "cell_type": "markdown",
      "source": [
        "USING BATCH NORMALISATION"
      ],
      "metadata": {
        "id": "yg912wPmntyr"
      }
    },
    {
      "cell_type": "markdown",
      "source": [
        "#### Implement batch normalization layers in the neural network and train the model againr"
      ],
      "metadata": {
        "id": "ffB9uy51vyWU"
      }
    },
    {
      "cell_type": "code",
      "source": [
        "layers1 = [tf.keras.layers.Flatten(input_shape=[28,28]),\n",
        "           tf.keras.layers.BatchNormalization(),\n",
        "           tf.keras.layers.Dense(300,activation=\"relu\"),\n",
        "           tf.keras.layers.BatchNormalization(),\n",
        "           tf.keras.layers.Dense(100,activation=\"relu\"),\n",
        "           tf.keras.layers.BatchNormalization(),\n",
        "           tf.keras.layers.Dense(10,activation=\"softmax\")]\n",
        "model_clf1 = tf.keras.models.Sequential(layers1)\n",
        "model_clf1.summary()"
      ],
      "metadata": {
        "colab": {
          "base_uri": "https://localhost:8080/"
        },
        "id": "J0PzmBv5moEZ",
        "outputId": "39214d72-d93a-4375-9c64-4528bcada257"
      },
      "execution_count": 22,
      "outputs": [
        {
          "output_type": "stream",
          "name": "stdout",
          "text": [
            "Model: \"sequential_2\"\n",
            "_________________________________________________________________\n",
            " Layer (type)                Output Shape              Param #   \n",
            "=================================================================\n",
            " flatten (Flatten)           (None, 784)               0         \n",
            "                                                                 \n",
            " batch_normalization (Batch  (None, 784)               3136      \n",
            " Normalization)                                                  \n",
            "                                                                 \n",
            " dense (Dense)               (None, 300)               235500    \n",
            "                                                                 \n",
            " batch_normalization_1 (Bat  (None, 300)               1200      \n",
            " chNormalization)                                                \n",
            "                                                                 \n",
            " dense_1 (Dense)             (None, 100)               30100     \n",
            "                                                                 \n",
            " batch_normalization_2 (Bat  (None, 100)               400       \n",
            " chNormalization)                                                \n",
            "                                                                 \n",
            " dense_2 (Dense)             (None, 10)                1010      \n",
            "                                                                 \n",
            "=================================================================\n",
            "Total params: 271346 (1.04 MB)\n",
            "Trainable params: 268978 (1.03 MB)\n",
            "Non-trainable params: 2368 (9.25 KB)\n",
            "_________________________________________________________________\n"
          ]
        }
      ]
    },
    {
      "cell_type": "code",
      "source": [
        "print(f\"Non-trainable parameter {(784*2*2+300*2*2+100*2*2)/2}\")"
      ],
      "metadata": {
        "colab": {
          "base_uri": "https://localhost:8080/"
        },
        "id": "4ZvvZpEGrasw",
        "outputId": "17f52489-efc2-4091-aee9-94d87a70fb43"
      },
      "execution_count": 33,
      "outputs": [
        {
          "output_type": "stream",
          "name": "stdout",
          "text": [
            "Non-trainable parameter 2368.0\n"
          ]
        }
      ]
    },
    {
      "cell_type": "code",
      "source": [
        "print(f\"trainable parameter {271346-2368}\")"
      ],
      "metadata": {
        "colab": {
          "base_uri": "https://localhost:8080/"
        },
        "id": "I094-iI_tAkJ",
        "outputId": "9ab48329-066d-4d4d-a515-70ed2ca30a86"
      },
      "execution_count": 34,
      "outputs": [
        {
          "output_type": "stream",
          "name": "stdout",
          "text": [
            "trainable parameter 268978\n"
          ]
        }
      ]
    },
    {
      "cell_type": "code",
      "source": [
        "LOSS = \"sparse_categorical_crossentropy\"\n",
        "OPTIMIZER = \"sgd\"\n",
        "model_clf1.compile(optimizer=OPTIMIZER,loss=LOSS,metrics=[\"accuracy\"])"
      ],
      "metadata": {
        "id": "GwcyjgFxtM6W"
      },
      "execution_count": 35,
      "outputs": []
    },
    {
      "cell_type": "code",
      "source": [
        "EPOCHS=20\n",
        "history1 = model_clf1.fit(X_train,y_train,epochs=EPOCHS,validation_data=(X_test,y_test))"
      ],
      "metadata": {
        "colab": {
          "base_uri": "https://localhost:8080/"
        },
        "id": "KKmDWESVt96s",
        "outputId": "383bf9f9-bf43-4c62-ba9c-d85b4d33695e"
      },
      "execution_count": 36,
      "outputs": [
        {
          "output_type": "stream",
          "name": "stdout",
          "text": [
            "Epoch 1/20\n",
            "1719/1719 [==============================] - 15s 7ms/step - loss: 0.3574 - accuracy: 0.8938 - val_loss: 0.1963 - val_accuracy: 0.9435\n",
            "Epoch 2/20\n",
            "1719/1719 [==============================] - 16s 9ms/step - loss: 0.1823 - accuracy: 0.9463 - val_loss: 0.1527 - val_accuracy: 0.9550\n",
            "Epoch 3/20\n",
            "1719/1719 [==============================] - 14s 8ms/step - loss: 0.1394 - accuracy: 0.9585 - val_loss: 0.1353 - val_accuracy: 0.9610\n",
            "Epoch 4/20\n",
            "1719/1719 [==============================] - 12s 7ms/step - loss: 0.1149 - accuracy: 0.9660 - val_loss: 0.1235 - val_accuracy: 0.9641\n",
            "Epoch 5/20\n",
            "1719/1719 [==============================] - 12s 7ms/step - loss: 0.0979 - accuracy: 0.9709 - val_loss: 0.1162 - val_accuracy: 0.9662\n",
            "Epoch 6/20\n",
            "1719/1719 [==============================] - 12s 7ms/step - loss: 0.0830 - accuracy: 0.9753 - val_loss: 0.1123 - val_accuracy: 0.9673\n",
            "Epoch 7/20\n",
            "1719/1719 [==============================] - 13s 7ms/step - loss: 0.0714 - accuracy: 0.9789 - val_loss: 0.1082 - val_accuracy: 0.9690\n",
            "Epoch 8/20\n",
            "1719/1719 [==============================] - 12s 7ms/step - loss: 0.0632 - accuracy: 0.9813 - val_loss: 0.1062 - val_accuracy: 0.9700\n",
            "Epoch 9/20\n",
            "1719/1719 [==============================] - 12s 7ms/step - loss: 0.0570 - accuracy: 0.9829 - val_loss: 0.1066 - val_accuracy: 0.9688\n",
            "Epoch 10/20\n",
            "1719/1719 [==============================] - 12s 7ms/step - loss: 0.0514 - accuracy: 0.9854 - val_loss: 0.1038 - val_accuracy: 0.9709\n",
            "Epoch 11/20\n",
            "1719/1719 [==============================] - 12s 7ms/step - loss: 0.0484 - accuracy: 0.9857 - val_loss: 0.1039 - val_accuracy: 0.9701\n",
            "Epoch 12/20\n",
            "1719/1719 [==============================] - 12s 7ms/step - loss: 0.0428 - accuracy: 0.9872 - val_loss: 0.1062 - val_accuracy: 0.9715\n",
            "Epoch 13/20\n",
            "1719/1719 [==============================] - 13s 7ms/step - loss: 0.0391 - accuracy: 0.9882 - val_loss: 0.1025 - val_accuracy: 0.9724\n",
            "Epoch 14/20\n",
            "1719/1719 [==============================] - 12s 7ms/step - loss: 0.0358 - accuracy: 0.9895 - val_loss: 0.1010 - val_accuracy: 0.9727\n",
            "Epoch 15/20\n",
            "1719/1719 [==============================] - 12s 7ms/step - loss: 0.0337 - accuracy: 0.9903 - val_loss: 0.1011 - val_accuracy: 0.9730\n",
            "Epoch 16/20\n",
            "1719/1719 [==============================] - 12s 7ms/step - loss: 0.0297 - accuracy: 0.9918 - val_loss: 0.1058 - val_accuracy: 0.9733\n",
            "Epoch 17/20\n",
            "1719/1719 [==============================] - 13s 7ms/step - loss: 0.0275 - accuracy: 0.9924 - val_loss: 0.1040 - val_accuracy: 0.9732\n",
            "Epoch 18/20\n",
            "1719/1719 [==============================] - 12s 7ms/step - loss: 0.0269 - accuracy: 0.9925 - val_loss: 0.1069 - val_accuracy: 0.9721\n",
            "Epoch 19/20\n",
            "1719/1719 [==============================] - 12s 7ms/step - loss: 0.0249 - accuracy: 0.9929 - val_loss: 0.1108 - val_accuracy: 0.9710\n",
            "Epoch 20/20\n",
            "1719/1719 [==============================] - 16s 9ms/step - loss: 0.0231 - accuracy: 0.9936 - val_loss: 0.1083 - val_accuracy: 0.9715\n"
          ]
        }
      ]
    },
    {
      "cell_type": "code",
      "source": [
        "df2 = pd.DataFrame(history1.history)\n",
        "df2"
      ],
      "metadata": {
        "colab": {
          "base_uri": "https://localhost:8080/",
          "height": 676
        },
        "id": "RKrVkCQcuP8G",
        "outputId": "55acd78e-980e-4c2b-ebb8-b0f8cedb7312"
      },
      "execution_count": 39,
      "outputs": [
        {
          "output_type": "execute_result",
          "data": {
            "text/plain": [
              "        loss  accuracy  val_loss  val_accuracy\n",
              "0   0.357444  0.893782  0.196261        0.9435\n",
              "1   0.182285  0.946309  0.152716        0.9550\n",
              "2   0.139440  0.958545  0.135292        0.9610\n",
              "3   0.114859  0.966000  0.123473        0.9641\n",
              "4   0.097929  0.970927  0.116232        0.9662\n",
              "5   0.082996  0.975309  0.112320        0.9673\n",
              "6   0.071374  0.978873  0.108195        0.9690\n",
              "7   0.063198  0.981255  0.106181        0.9700\n",
              "8   0.056973  0.982873  0.106635        0.9688\n",
              "9   0.051387  0.985364  0.103758        0.9709\n",
              "10  0.048432  0.985691  0.103904        0.9701\n",
              "11  0.042802  0.987236  0.106193        0.9715\n",
              "12  0.039085  0.988218  0.102492        0.9724\n",
              "13  0.035776  0.989509  0.101039        0.9727\n",
              "14  0.033675  0.990327  0.101132        0.9730\n",
              "15  0.029727  0.991836  0.105825        0.9733\n",
              "16  0.027529  0.992364  0.104023        0.9732\n",
              "17  0.026898  0.992527  0.106853        0.9721\n",
              "18  0.024950  0.992855  0.110770        0.9710\n",
              "19  0.023051  0.993636  0.108316        0.9715"
            ],
            "text/html": [
              "\n",
              "  <div id=\"df-c8556df8-3406-4b9f-86fd-24b6f5a6f5da\" class=\"colab-df-container\">\n",
              "    <div>\n",
              "<style scoped>\n",
              "    .dataframe tbody tr th:only-of-type {\n",
              "        vertical-align: middle;\n",
              "    }\n",
              "\n",
              "    .dataframe tbody tr th {\n",
              "        vertical-align: top;\n",
              "    }\n",
              "\n",
              "    .dataframe thead th {\n",
              "        text-align: right;\n",
              "    }\n",
              "</style>\n",
              "<table border=\"1\" class=\"dataframe\">\n",
              "  <thead>\n",
              "    <tr style=\"text-align: right;\">\n",
              "      <th></th>\n",
              "      <th>loss</th>\n",
              "      <th>accuracy</th>\n",
              "      <th>val_loss</th>\n",
              "      <th>val_accuracy</th>\n",
              "    </tr>\n",
              "  </thead>\n",
              "  <tbody>\n",
              "    <tr>\n",
              "      <th>0</th>\n",
              "      <td>0.357444</td>\n",
              "      <td>0.893782</td>\n",
              "      <td>0.196261</td>\n",
              "      <td>0.9435</td>\n",
              "    </tr>\n",
              "    <tr>\n",
              "      <th>1</th>\n",
              "      <td>0.182285</td>\n",
              "      <td>0.946309</td>\n",
              "      <td>0.152716</td>\n",
              "      <td>0.9550</td>\n",
              "    </tr>\n",
              "    <tr>\n",
              "      <th>2</th>\n",
              "      <td>0.139440</td>\n",
              "      <td>0.958545</td>\n",
              "      <td>0.135292</td>\n",
              "      <td>0.9610</td>\n",
              "    </tr>\n",
              "    <tr>\n",
              "      <th>3</th>\n",
              "      <td>0.114859</td>\n",
              "      <td>0.966000</td>\n",
              "      <td>0.123473</td>\n",
              "      <td>0.9641</td>\n",
              "    </tr>\n",
              "    <tr>\n",
              "      <th>4</th>\n",
              "      <td>0.097929</td>\n",
              "      <td>0.970927</td>\n",
              "      <td>0.116232</td>\n",
              "      <td>0.9662</td>\n",
              "    </tr>\n",
              "    <tr>\n",
              "      <th>5</th>\n",
              "      <td>0.082996</td>\n",
              "      <td>0.975309</td>\n",
              "      <td>0.112320</td>\n",
              "      <td>0.9673</td>\n",
              "    </tr>\n",
              "    <tr>\n",
              "      <th>6</th>\n",
              "      <td>0.071374</td>\n",
              "      <td>0.978873</td>\n",
              "      <td>0.108195</td>\n",
              "      <td>0.9690</td>\n",
              "    </tr>\n",
              "    <tr>\n",
              "      <th>7</th>\n",
              "      <td>0.063198</td>\n",
              "      <td>0.981255</td>\n",
              "      <td>0.106181</td>\n",
              "      <td>0.9700</td>\n",
              "    </tr>\n",
              "    <tr>\n",
              "      <th>8</th>\n",
              "      <td>0.056973</td>\n",
              "      <td>0.982873</td>\n",
              "      <td>0.106635</td>\n",
              "      <td>0.9688</td>\n",
              "    </tr>\n",
              "    <tr>\n",
              "      <th>9</th>\n",
              "      <td>0.051387</td>\n",
              "      <td>0.985364</td>\n",
              "      <td>0.103758</td>\n",
              "      <td>0.9709</td>\n",
              "    </tr>\n",
              "    <tr>\n",
              "      <th>10</th>\n",
              "      <td>0.048432</td>\n",
              "      <td>0.985691</td>\n",
              "      <td>0.103904</td>\n",
              "      <td>0.9701</td>\n",
              "    </tr>\n",
              "    <tr>\n",
              "      <th>11</th>\n",
              "      <td>0.042802</td>\n",
              "      <td>0.987236</td>\n",
              "      <td>0.106193</td>\n",
              "      <td>0.9715</td>\n",
              "    </tr>\n",
              "    <tr>\n",
              "      <th>12</th>\n",
              "      <td>0.039085</td>\n",
              "      <td>0.988218</td>\n",
              "      <td>0.102492</td>\n",
              "      <td>0.9724</td>\n",
              "    </tr>\n",
              "    <tr>\n",
              "      <th>13</th>\n",
              "      <td>0.035776</td>\n",
              "      <td>0.989509</td>\n",
              "      <td>0.101039</td>\n",
              "      <td>0.9727</td>\n",
              "    </tr>\n",
              "    <tr>\n",
              "      <th>14</th>\n",
              "      <td>0.033675</td>\n",
              "      <td>0.990327</td>\n",
              "      <td>0.101132</td>\n",
              "      <td>0.9730</td>\n",
              "    </tr>\n",
              "    <tr>\n",
              "      <th>15</th>\n",
              "      <td>0.029727</td>\n",
              "      <td>0.991836</td>\n",
              "      <td>0.105825</td>\n",
              "      <td>0.9733</td>\n",
              "    </tr>\n",
              "    <tr>\n",
              "      <th>16</th>\n",
              "      <td>0.027529</td>\n",
              "      <td>0.992364</td>\n",
              "      <td>0.104023</td>\n",
              "      <td>0.9732</td>\n",
              "    </tr>\n",
              "    <tr>\n",
              "      <th>17</th>\n",
              "      <td>0.026898</td>\n",
              "      <td>0.992527</td>\n",
              "      <td>0.106853</td>\n",
              "      <td>0.9721</td>\n",
              "    </tr>\n",
              "    <tr>\n",
              "      <th>18</th>\n",
              "      <td>0.024950</td>\n",
              "      <td>0.992855</td>\n",
              "      <td>0.110770</td>\n",
              "      <td>0.9710</td>\n",
              "    </tr>\n",
              "    <tr>\n",
              "      <th>19</th>\n",
              "      <td>0.023051</td>\n",
              "      <td>0.993636</td>\n",
              "      <td>0.108316</td>\n",
              "      <td>0.9715</td>\n",
              "    </tr>\n",
              "  </tbody>\n",
              "</table>\n",
              "</div>\n",
              "    <div class=\"colab-df-buttons\">\n",
              "\n",
              "  <div class=\"colab-df-container\">\n",
              "    <button class=\"colab-df-convert\" onclick=\"convertToInteractive('df-c8556df8-3406-4b9f-86fd-24b6f5a6f5da')\"\n",
              "            title=\"Convert this dataframe to an interactive table.\"\n",
              "            style=\"display:none;\">\n",
              "\n",
              "  <svg xmlns=\"http://www.w3.org/2000/svg\" height=\"24px\" viewBox=\"0 -960 960 960\">\n",
              "    <path d=\"M120-120v-720h720v720H120Zm60-500h600v-160H180v160Zm220 220h160v-160H400v160Zm0 220h160v-160H400v160ZM180-400h160v-160H180v160Zm440 0h160v-160H620v160ZM180-180h160v-160H180v160Zm440 0h160v-160H620v160Z\"/>\n",
              "  </svg>\n",
              "    </button>\n",
              "\n",
              "  <style>\n",
              "    .colab-df-container {\n",
              "      display:flex;\n",
              "      gap: 12px;\n",
              "    }\n",
              "\n",
              "    .colab-df-convert {\n",
              "      background-color: #E8F0FE;\n",
              "      border: none;\n",
              "      border-radius: 50%;\n",
              "      cursor: pointer;\n",
              "      display: none;\n",
              "      fill: #1967D2;\n",
              "      height: 32px;\n",
              "      padding: 0 0 0 0;\n",
              "      width: 32px;\n",
              "    }\n",
              "\n",
              "    .colab-df-convert:hover {\n",
              "      background-color: #E2EBFA;\n",
              "      box-shadow: 0px 1px 2px rgba(60, 64, 67, 0.3), 0px 1px 3px 1px rgba(60, 64, 67, 0.15);\n",
              "      fill: #174EA6;\n",
              "    }\n",
              "\n",
              "    .colab-df-buttons div {\n",
              "      margin-bottom: 4px;\n",
              "    }\n",
              "\n",
              "    [theme=dark] .colab-df-convert {\n",
              "      background-color: #3B4455;\n",
              "      fill: #D2E3FC;\n",
              "    }\n",
              "\n",
              "    [theme=dark] .colab-df-convert:hover {\n",
              "      background-color: #434B5C;\n",
              "      box-shadow: 0px 1px 3px 1px rgba(0, 0, 0, 0.15);\n",
              "      filter: drop-shadow(0px 1px 2px rgba(0, 0, 0, 0.3));\n",
              "      fill: #FFFFFF;\n",
              "    }\n",
              "  </style>\n",
              "\n",
              "    <script>\n",
              "      const buttonEl =\n",
              "        document.querySelector('#df-c8556df8-3406-4b9f-86fd-24b6f5a6f5da button.colab-df-convert');\n",
              "      buttonEl.style.display =\n",
              "        google.colab.kernel.accessAllowed ? 'block' : 'none';\n",
              "\n",
              "      async function convertToInteractive(key) {\n",
              "        const element = document.querySelector('#df-c8556df8-3406-4b9f-86fd-24b6f5a6f5da');\n",
              "        const dataTable =\n",
              "          await google.colab.kernel.invokeFunction('convertToInteractive',\n",
              "                                                    [key], {});\n",
              "        if (!dataTable) return;\n",
              "\n",
              "        const docLinkHtml = 'Like what you see? Visit the ' +\n",
              "          '<a target=\"_blank\" href=https://colab.research.google.com/notebooks/data_table.ipynb>data table notebook</a>'\n",
              "          + ' to learn more about interactive tables.';\n",
              "        element.innerHTML = '';\n",
              "        dataTable['output_type'] = 'display_data';\n",
              "        await google.colab.output.renderOutput(dataTable, element);\n",
              "        const docLink = document.createElement('div');\n",
              "        docLink.innerHTML = docLinkHtml;\n",
              "        element.appendChild(docLink);\n",
              "      }\n",
              "    </script>\n",
              "  </div>\n",
              "\n",
              "\n",
              "<div id=\"df-d4e83f12-a339-491c-9b5c-4c94c0516675\">\n",
              "  <button class=\"colab-df-quickchart\" onclick=\"quickchart('df-d4e83f12-a339-491c-9b5c-4c94c0516675')\"\n",
              "            title=\"Suggest charts\"\n",
              "            style=\"display:none;\">\n",
              "\n",
              "<svg xmlns=\"http://www.w3.org/2000/svg\" height=\"24px\"viewBox=\"0 0 24 24\"\n",
              "     width=\"24px\">\n",
              "    <g>\n",
              "        <path d=\"M19 3H5c-1.1 0-2 .9-2 2v14c0 1.1.9 2 2 2h14c1.1 0 2-.9 2-2V5c0-1.1-.9-2-2-2zM9 17H7v-7h2v7zm4 0h-2V7h2v10zm4 0h-2v-4h2v4z\"/>\n",
              "    </g>\n",
              "</svg>\n",
              "  </button>\n",
              "\n",
              "<style>\n",
              "  .colab-df-quickchart {\n",
              "      --bg-color: #E8F0FE;\n",
              "      --fill-color: #1967D2;\n",
              "      --hover-bg-color: #E2EBFA;\n",
              "      --hover-fill-color: #174EA6;\n",
              "      --disabled-fill-color: #AAA;\n",
              "      --disabled-bg-color: #DDD;\n",
              "  }\n",
              "\n",
              "  [theme=dark] .colab-df-quickchart {\n",
              "      --bg-color: #3B4455;\n",
              "      --fill-color: #D2E3FC;\n",
              "      --hover-bg-color: #434B5C;\n",
              "      --hover-fill-color: #FFFFFF;\n",
              "      --disabled-bg-color: #3B4455;\n",
              "      --disabled-fill-color: #666;\n",
              "  }\n",
              "\n",
              "  .colab-df-quickchart {\n",
              "    background-color: var(--bg-color);\n",
              "    border: none;\n",
              "    border-radius: 50%;\n",
              "    cursor: pointer;\n",
              "    display: none;\n",
              "    fill: var(--fill-color);\n",
              "    height: 32px;\n",
              "    padding: 0;\n",
              "    width: 32px;\n",
              "  }\n",
              "\n",
              "  .colab-df-quickchart:hover {\n",
              "    background-color: var(--hover-bg-color);\n",
              "    box-shadow: 0 1px 2px rgba(60, 64, 67, 0.3), 0 1px 3px 1px rgba(60, 64, 67, 0.15);\n",
              "    fill: var(--button-hover-fill-color);\n",
              "  }\n",
              "\n",
              "  .colab-df-quickchart-complete:disabled,\n",
              "  .colab-df-quickchart-complete:disabled:hover {\n",
              "    background-color: var(--disabled-bg-color);\n",
              "    fill: var(--disabled-fill-color);\n",
              "    box-shadow: none;\n",
              "  }\n",
              "\n",
              "  .colab-df-spinner {\n",
              "    border: 2px solid var(--fill-color);\n",
              "    border-color: transparent;\n",
              "    border-bottom-color: var(--fill-color);\n",
              "    animation:\n",
              "      spin 1s steps(1) infinite;\n",
              "  }\n",
              "\n",
              "  @keyframes spin {\n",
              "    0% {\n",
              "      border-color: transparent;\n",
              "      border-bottom-color: var(--fill-color);\n",
              "      border-left-color: var(--fill-color);\n",
              "    }\n",
              "    20% {\n",
              "      border-color: transparent;\n",
              "      border-left-color: var(--fill-color);\n",
              "      border-top-color: var(--fill-color);\n",
              "    }\n",
              "    30% {\n",
              "      border-color: transparent;\n",
              "      border-left-color: var(--fill-color);\n",
              "      border-top-color: var(--fill-color);\n",
              "      border-right-color: var(--fill-color);\n",
              "    }\n",
              "    40% {\n",
              "      border-color: transparent;\n",
              "      border-right-color: var(--fill-color);\n",
              "      border-top-color: var(--fill-color);\n",
              "    }\n",
              "    60% {\n",
              "      border-color: transparent;\n",
              "      border-right-color: var(--fill-color);\n",
              "    }\n",
              "    80% {\n",
              "      border-color: transparent;\n",
              "      border-right-color: var(--fill-color);\n",
              "      border-bottom-color: var(--fill-color);\n",
              "    }\n",
              "    90% {\n",
              "      border-color: transparent;\n",
              "      border-bottom-color: var(--fill-color);\n",
              "    }\n",
              "  }\n",
              "</style>\n",
              "\n",
              "  <script>\n",
              "    async function quickchart(key) {\n",
              "      const quickchartButtonEl =\n",
              "        document.querySelector('#' + key + ' button');\n",
              "      quickchartButtonEl.disabled = true;  // To prevent multiple clicks.\n",
              "      quickchartButtonEl.classList.add('colab-df-spinner');\n",
              "      try {\n",
              "        const charts = await google.colab.kernel.invokeFunction(\n",
              "            'suggestCharts', [key], {});\n",
              "      } catch (error) {\n",
              "        console.error('Error during call to suggestCharts:', error);\n",
              "      }\n",
              "      quickchartButtonEl.classList.remove('colab-df-spinner');\n",
              "      quickchartButtonEl.classList.add('colab-df-quickchart-complete');\n",
              "    }\n",
              "    (() => {\n",
              "      let quickchartButtonEl =\n",
              "        document.querySelector('#df-d4e83f12-a339-491c-9b5c-4c94c0516675 button');\n",
              "      quickchartButtonEl.style.display =\n",
              "        google.colab.kernel.accessAllowed ? 'block' : 'none';\n",
              "    })();\n",
              "  </script>\n",
              "</div>\n",
              "\n",
              "  <div id=\"id_412b045a-e958-4ab1-8af6-43016e5ba4dc\">\n",
              "    <style>\n",
              "      .colab-df-generate {\n",
              "        background-color: #E8F0FE;\n",
              "        border: none;\n",
              "        border-radius: 50%;\n",
              "        cursor: pointer;\n",
              "        display: none;\n",
              "        fill: #1967D2;\n",
              "        height: 32px;\n",
              "        padding: 0 0 0 0;\n",
              "        width: 32px;\n",
              "      }\n",
              "\n",
              "      .colab-df-generate:hover {\n",
              "        background-color: #E2EBFA;\n",
              "        box-shadow: 0px 1px 2px rgba(60, 64, 67, 0.3), 0px 1px 3px 1px rgba(60, 64, 67, 0.15);\n",
              "        fill: #174EA6;\n",
              "      }\n",
              "\n",
              "      [theme=dark] .colab-df-generate {\n",
              "        background-color: #3B4455;\n",
              "        fill: #D2E3FC;\n",
              "      }\n",
              "\n",
              "      [theme=dark] .colab-df-generate:hover {\n",
              "        background-color: #434B5C;\n",
              "        box-shadow: 0px 1px 3px 1px rgba(0, 0, 0, 0.15);\n",
              "        filter: drop-shadow(0px 1px 2px rgba(0, 0, 0, 0.3));\n",
              "        fill: #FFFFFF;\n",
              "      }\n",
              "    </style>\n",
              "    <button class=\"colab-df-generate\" onclick=\"generateWithVariable('df2')\"\n",
              "            title=\"Generate code using this dataframe.\"\n",
              "            style=\"display:none;\">\n",
              "\n",
              "  <svg xmlns=\"http://www.w3.org/2000/svg\" height=\"24px\"viewBox=\"0 0 24 24\"\n",
              "       width=\"24px\">\n",
              "    <path d=\"M7,19H8.4L18.45,9,17,7.55,7,17.6ZM5,21V16.75L18.45,3.32a2,2,0,0,1,2.83,0l1.4,1.43a1.91,1.91,0,0,1,.58,1.4,1.91,1.91,0,0,1-.58,1.4L9.25,21ZM18.45,9,17,7.55Zm-12,3A5.31,5.31,0,0,0,4.9,8.1,5.31,5.31,0,0,0,1,6.5,5.31,5.31,0,0,0,4.9,4.9,5.31,5.31,0,0,0,6.5,1,5.31,5.31,0,0,0,8.1,4.9,5.31,5.31,0,0,0,12,6.5,5.46,5.46,0,0,0,6.5,12Z\"/>\n",
              "  </svg>\n",
              "    </button>\n",
              "    <script>\n",
              "      (() => {\n",
              "      const buttonEl =\n",
              "        document.querySelector('#id_412b045a-e958-4ab1-8af6-43016e5ba4dc button.colab-df-generate');\n",
              "      buttonEl.style.display =\n",
              "        google.colab.kernel.accessAllowed ? 'block' : 'none';\n",
              "\n",
              "      buttonEl.onclick = () => {\n",
              "        google.colab.notebook.generateWithVariable('df2');\n",
              "      }\n",
              "      })();\n",
              "    </script>\n",
              "  </div>\n",
              "\n",
              "    </div>\n",
              "  </div>\n"
            ]
          },
          "metadata": {},
          "execution_count": 39
        }
      ]
    },
    {
      "cell_type": "code",
      "source": [
        "df2.plot()"
      ],
      "metadata": {
        "colab": {
          "base_uri": "https://localhost:8080/",
          "height": 447
        },
        "id": "R_ZJOwQ3vUqh",
        "outputId": "0c1f3676-2d03-49cb-a9a1-a8d4209205e3"
      },
      "execution_count": 40,
      "outputs": [
        {
          "output_type": "execute_result",
          "data": {
            "text/plain": [
              "<Axes: >"
            ]
          },
          "metadata": {},
          "execution_count": 40
        },
        {
          "output_type": "display_data",
          "data": {
            "text/plain": [
              "<Figure size 640x480 with 1 Axes>"
            ],
            "image/png": "[encoded data removed]"
          },
          "metadata": {}
        }
      ]
    },
    {
      "cell_type": "markdown",
      "source": [
        "Q5 Compare the training and validation performance (e.g., accuracy, loss) between the models with and\n",
        "without batch normalizationr"
      ],
      "metadata": {
        "id": "-tirNv9ev7wl"
      }
    },
    {
      "cell_type": "code",
      "source": [
        "print(df1.tail(2))\n",
        "print()\n",
        "print()\n",
        "print(df2.tail(2))"
      ],
      "metadata": {
        "colab": {
          "base_uri": "https://localhost:8080/"
        },
        "id": "ZdrEjVaQvgTT",
        "outputId": "70d84496-d56c-4b52-93a3-c964c01d628a"
      },
      "execution_count": 46,
      "outputs": [
        {
          "output_type": "stream",
          "name": "stdout",
          "text": [
            "        loss  accuracy  val_loss  val_accuracy\n",
            "18  0.034450  0.991691  0.074755        0.9779\n",
            "19  0.032571  0.992400  0.073614        0.9781\n",
            "\n",
            "\n",
            "        loss  accuracy  val_loss  val_accuracy\n",
            "18  0.024950  0.992855  0.110770        0.9710\n",
            "19  0.023051  0.993636  0.108316        0.9715\n"
          ]
        }
      ]
    },
    {
      "cell_type": "code",
      "source": [
        "# plt.subplot(1,2,1)\n",
        "# #the figure has 1 row, 2 columns, and this plot is the first plot.\n",
        "# df1.plot()\n",
        "# plt.subplot(1,2,2)\n",
        "# #the figure has 1 row, 2 columns, and this plot is the second plot.\n",
        "# df2.plot()\n",
        "# plt.show()"
      ],
      "metadata": {
        "id": "HoGMsooZwGHf"
      },
      "execution_count": 55,
      "outputs": []
    },
    {
      "cell_type": "code",
      "source": [
        "plt.figure(figsize=(12,10))\n",
        "df1.plot()\n",
        "plt.show()"
      ],
      "metadata": {
        "colab": {
          "base_uri": "https://localhost:8080/",
          "height": 447
        },
        "id": "DJ2NYhAcwgca",
        "outputId": "d7b90ea4-c957-48ab-97a8-269db816a916"
      },
      "execution_count": 58,
      "outputs": [
        {
          "output_type": "display_data",
          "data": {
            "text/plain": [
              "<Figure size 1200x1000 with 0 Axes>"
            ]
          },
          "metadata": {}
        },
        {
          "output_type": "display_data",
          "data": {
            "text/plain": [
              "<Figure size 640x480 with 1 Axes>"
            ],
            "image/png": "[encoded data removed]"
          },
          "metadata": {}
        }
      ]
    },
    {
      "cell_type": "code",
      "source": [
        "plt.figure(figsize=(12,10))\n",
        "df2.plot()\n",
        "plt.show()"
      ],
      "metadata": {
        "colab": {
          "base_uri": "https://localhost:8080/",
          "height": 447
        },
        "id": "-8hPddGEx2h1",
        "outputId": "65f35d00-1378-4321-e1f8-146547ee1024"
      },
      "execution_count": 59,
      "outputs": [
        {
          "output_type": "display_data",
          "data": {
            "text/plain": [
              "<Figure size 1200x1000 with 0 Axes>"
            ]
          },
          "metadata": {}
        },
        {
          "output_type": "display_data",
          "data": {
            "text/plain": [
              "<Figure size 640x480 with 1 Axes>"
            ],
            "image/png": "[encoded data removed]"
          },
          "metadata": {}
        }
      ]
    },
    {
      "cell_type": "markdown",
      "source": [
        "####  Discuss the impact of batch normalization on the training process and the performance of the neural  network."
      ],
      "metadata": {
        "id": "1inLlyKhyJoa"
      }
    },
    {
      "cell_type": "markdown",
      "source": [
        "### Q3. Experimentation and AnalysisU\n",
        "- Experiment with different batch sizes and observe the effect on the training\n",
        "dynamics and model performancer\n",
        "- Discuss the advantages and potential limitations of batch normalization in improving the training of\n",
        "neural networks"
      ],
      "metadata": {
        "id": "Jg_kZI0TzASj"
      }
    },
    {
      "cell_type": "code",
      "source": [
        "batch_size=[32, 64, 128]\n",
        "\n",
        "for batch in batch_size:\n",
        "  history1 = model_clf1.fit(X_train,y_train,epochs=10,validation_data=(X_test,y_test),batch_size=batch)\n",
        "  print(f\"Batch Size {batch}\")\n",
        "  print()\n",
        "  print()\n"
      ],
      "metadata": {
        "colab": {
          "base_uri": "https://localhost:8080/"
        },
        "id": "g9rLXhQryA8K",
        "outputId": "03975766-f746-4018-a6fc-0e359f202577"
      },
      "execution_count": 64,
      "outputs": [
        {
          "output_type": "stream",
          "name": "stdout",
          "text": [
            "Epoch 1/10\n",
            "1719/1719 [==============================] - 12s 7ms/step - loss: 0.0117 - accuracy: 0.9968 - val_loss: 0.1096 - val_accuracy: 0.9746\n",
            "Epoch 2/10\n",
            "1719/1719 [==============================] - 11s 6ms/step - loss: 0.0115 - accuracy: 0.9969 - val_loss: 0.1114 - val_accuracy: 0.9742\n",
            "Epoch 3/10\n",
            "1719/1719 [==============================] - 12s 7ms/step - loss: 0.0120 - accuracy: 0.9967 - val_loss: 0.1142 - val_accuracy: 0.9749\n",
            "Epoch 4/10\n",
            "1719/1719 [==============================] - 12s 7ms/step - loss: 0.0104 - accuracy: 0.9975 - val_loss: 0.1158 - val_accuracy: 0.9742\n",
            "Epoch 5/10\n",
            "1719/1719 [==============================] - 12s 7ms/step - loss: 0.0103 - accuracy: 0.9974 - val_loss: 0.1146 - val_accuracy: 0.9741\n",
            "Epoch 6/10\n",
            "1719/1719 [==============================] - 12s 7ms/step - loss: 0.0096 - accuracy: 0.9977 - val_loss: 0.1131 - val_accuracy: 0.9752\n",
            "Epoch 7/10\n",
            "1719/1719 [==============================] - 12s 7ms/step - loss: 0.0095 - accuracy: 0.9973 - val_loss: 0.1156 - val_accuracy: 0.9738\n",
            "Epoch 8/10\n",
            "1719/1719 [==============================] - 12s 7ms/step - loss: 0.0095 - accuracy: 0.9976 - val_loss: 0.1190 - val_accuracy: 0.9744\n",
            "Epoch 9/10\n",
            "1719/1719 [==============================] - 11s 7ms/step - loss: 0.0091 - accuracy: 0.9975 - val_loss: 0.1147 - val_accuracy: 0.9751\n",
            "Epoch 10/10\n",
            "1719/1719 [==============================] - 11s 6ms/step - loss: 0.0086 - accuracy: 0.9977 - val_loss: 0.1193 - val_accuracy: 0.9736\n",
            "Batch Size 32\n",
            "\n",
            "\n",
            "Epoch 1/10\n",
            "860/860 [==============================] - 8s 9ms/step - loss: 0.0030 - accuracy: 0.9997 - val_loss: 0.1135 - val_accuracy: 0.9748\n",
            "Epoch 2/10\n",
            "860/860 [==============================] - 6s 7ms/step - loss: 0.0027 - accuracy: 0.9997 - val_loss: 0.1110 - val_accuracy: 0.9749\n",
            "Epoch 3/10\n",
            "860/860 [==============================] - 8s 9ms/step - loss: 0.0022 - accuracy: 0.9999 - val_loss: 0.1111 - val_accuracy: 0.9756\n",
            "Epoch 4/10\n",
            "860/860 [==============================] - 6s 7ms/step - loss: 0.0021 - accuracy: 0.9999 - val_loss: 0.1102 - val_accuracy: 0.9757\n",
            "Epoch 5/10\n",
            "860/860 [==============================] - 8s 9ms/step - loss: 0.0022 - accuracy: 0.9999 - val_loss: 0.1114 - val_accuracy: 0.9757\n",
            "Epoch 6/10\n",
            "860/860 [==============================] - 7s 8ms/step - loss: 0.0020 - accuracy: 0.9999 - val_loss: 0.1094 - val_accuracy: 0.9761\n",
            "Epoch 7/10\n",
            "860/860 [==============================] - 7s 8ms/step - loss: 0.0022 - accuracy: 0.9998 - val_loss: 0.1110 - val_accuracy: 0.9762\n",
            "Epoch 8/10\n",
            "860/860 [==============================] - 8s 9ms/step - loss: 0.0020 - accuracy: 0.9998 - val_loss: 0.1108 - val_accuracy: 0.9755\n",
            "Epoch 9/10\n",
            "860/860 [==============================] - 6s 8ms/step - loss: 0.0020 - accuracy: 0.9998 - val_loss: 0.1103 - val_accuracy: 0.9755\n",
            "Epoch 10/10\n",
            "860/860 [==============================] - 8s 9ms/step - loss: 0.0019 - accuracy: 0.9998 - val_loss: 0.1090 - val_accuracy: 0.9759\n",
            "Batch Size 64\n",
            "\n",
            "\n",
            "Epoch 1/10\n",
            "430/430 [==============================] - 5s 12ms/step - loss: 0.0011 - accuracy: 1.0000 - val_loss: 0.1071 - val_accuracy: 0.9761\n",
            "Epoch 2/10\n",
            "430/430 [==============================] - 4s 10ms/step - loss: 0.0010 - accuracy: 1.0000 - val_loss: 0.1066 - val_accuracy: 0.9761\n",
            "Epoch 3/10\n",
            "430/430 [==============================] - 5s 12ms/step - loss: 9.3438e-04 - accuracy: 1.0000 - val_loss: 0.1069 - val_accuracy: 0.9761\n",
            "Epoch 4/10\n",
            "430/430 [==============================] - 5s 11ms/step - loss: 8.8877e-04 - accuracy: 1.0000 - val_loss: 0.1067 - val_accuracy: 0.9761\n",
            "Epoch 5/10\n",
            "430/430 [==============================] - 4s 10ms/step - loss: 9.2287e-04 - accuracy: 1.0000 - val_loss: 0.1066 - val_accuracy: 0.9763\n",
            "Epoch 6/10\n",
            "430/430 [==============================] - 6s 13ms/step - loss: 9.5139e-04 - accuracy: 1.0000 - val_loss: 0.1067 - val_accuracy: 0.9763\n",
            "Epoch 7/10\n",
            "430/430 [==============================] - 4s 10ms/step - loss: 8.7489e-04 - accuracy: 1.0000 - val_loss: 0.1066 - val_accuracy: 0.9764\n",
            "Epoch 8/10\n",
            "430/430 [==============================] - 4s 10ms/step - loss: 8.7943e-04 - accuracy: 1.0000 - val_loss: 0.1050 - val_accuracy: 0.9763\n",
            "Epoch 9/10\n",
            "430/430 [==============================] - 6s 14ms/step - loss: 9.2394e-04 - accuracy: 1.0000 - val_loss: 0.1058 - val_accuracy: 0.9764\n",
            "Epoch 10/10\n",
            "430/430 [==============================] - 4s 10ms/step - loss: 8.4202e-04 - accuracy: 1.0000 - val_loss: 0.1050 - val_accuracy: 0.9764\n",
            "Batch Size 128\n",
            "\n",
            "\n"
          ]
        }
      ]
    },
    {
      "cell_type": "markdown",
      "source": [
        "#### As Batch Size increases Accuracy of the model also increases"
      ],
      "metadata": {
        "id": "WMHmGT-42M-h"
      }
    },
    {
      "cell_type": "markdown",
      "source": [
        "#Discuss the advantages and potential limitations of batch normalization in improving the training of neural networks."
      ],
      "metadata": {
        "id": "ju70yZNZ9cBj"
      }
    },
    {
      "cell_type": "markdown",
      "source": [
        "# Advantages\n",
        "- Batch Normalization reduces internal covariate shift, leading to faster convergence during training.\n",
        "- Batch Normalisation acts as a regularizer, reducing the risk of overfitting and improving the model's generalization on unseen data.\n",
        "- Batch Normalization is versatile and can be applied to various types of neural network architectures, including convolutional, fully connected, and recurrent layers.\n",
        "\n",
        "# Disadvange\n",
        "- Batch Size Dependency Very small batch sizes may lead to inaccurate estimates of mean and variance\n",
        "- Batch Normalization may not provide significant benefits on small datasets, and its application on such datasets may lead to overfitting due to the regularization effect."
      ],
      "metadata": {
        "id": "5J-tpyhq9tc7"
      }
    },
    {
      "cell_type": "code",
      "source": [],
      "metadata": {
        "id": "ngoEfda30BpG"
      },
      "execution_count": null,
      "outputs": []
    }
  ]
}